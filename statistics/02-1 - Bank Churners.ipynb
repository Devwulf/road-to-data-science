{
 "cells": [
  {
   "cell_type": "markdown",
   "metadata": {},
   "source": [
    "### Bank Churners\n",
    "\n",
    "#### Importing Data\n",
    "First, we'll need to import data into Python as a data object. We can use the `pandas` library to easily import the data from the `.csv` file into a dataframe."
   ]
  },
  {
   "cell_type": "code",
   "execution_count": 1,
   "metadata": {},
   "outputs": [
    {
     "name": "stdout",
     "output_type": "stream",
     "text": [
      "<class 'pandas.core.frame.DataFrame'>\n",
      "Index(['CLIENTNUM', 'Attrition_Flag', 'Customer_Age', 'Gender',\n",
      "       'Dependent_count', 'Education_Level', 'Marital_Status',\n",
      "       'Income_Category', 'Card_Category', 'Months_on_book',\n",
      "       'Total_Relationship_Count', 'Months_Inactive_12_mon',\n",
      "       'Contacts_Count_12_mon', 'Credit_Limit', 'Total_Revolving_Bal',\n",
      "       'Avg_Open_To_Buy', 'Total_Amt_Chng_Q4_Q1', 'Total_Trans_Amt',\n",
      "       'Total_Trans_Ct', 'Total_Ct_Chng_Q4_Q1', 'Avg_Utilization_Ratio',\n",
      "       'Naive_Bayes_Classifier_Attrition_Flag_Card_Category_Contacts_Count_12_mon_Dependent_count_Education_Level_Months_Inactive_12_mon_1',\n",
      "       'Naive_Bayes_Classifier_Attrition_Flag_Card_Category_Contacts_Count_12_mon_Dependent_count_Education_Level_Months_Inactive_12_mon_2'],\n",
      "      dtype='object')\n"
     ]
    }
   ],
   "source": [
    "import numpy as np\n",
    "import pandas as pd\n",
    "\n",
    "df = pd.read_csv(\"BankChurners.csv\")\n",
    "print(type(df))\n",
    "print(df.columns)"
   ]
  },
  {
   "cell_type": "markdown",
   "metadata": {},
   "source": [
    "Next, we'll remove the last 2 columns since we don't need them."
   ]
  },
  {
   "cell_type": "code",
   "execution_count": 2,
   "metadata": {},
   "outputs": [
    {
     "name": "stdout",
     "output_type": "stream",
     "text": [
      "Index(['CLIENTNUM', 'Attrition_Flag', 'Customer_Age', 'Gender',\n",
      "       'Dependent_count', 'Education_Level', 'Marital_Status',\n",
      "       'Income_Category', 'Card_Category', 'Months_on_book',\n",
      "       'Total_Relationship_Count', 'Months_Inactive_12_mon',\n",
      "       'Contacts_Count_12_mon', 'Credit_Limit', 'Total_Revolving_Bal',\n",
      "       'Avg_Open_To_Buy', 'Total_Amt_Chng_Q4_Q1', 'Total_Trans_Amt',\n",
      "       'Total_Trans_Ct', 'Total_Ct_Chng_Q4_Q1', 'Avg_Utilization_Ratio'],\n",
      "      dtype='object')\n"
     ]
    }
   ],
   "source": [
    "del df[\"Naive_Bayes_Classifier_Attrition_Flag_Card_Category_Contacts_Count_12_mon_Dependent_count_Education_Level_Months_Inactive_12_mon_1\"]\n",
    "del df[\"Naive_Bayes_Classifier_Attrition_Flag_Card_Category_Contacts_Count_12_mon_Dependent_count_Education_Level_Months_Inactive_12_mon_2\"]\n",
    "\n",
    "print(df.columns)"
   ]
  },
  {
   "cell_type": "markdown",
   "metadata": {},
   "source": [
    "#### Cleaning Data\n",
    "Next, we'll have to clean the data. This step involves transforming the data according to our needs and making the data easier for us to use.\n",
    "\n",
    "##### Attrition_Flag\n",
    "The values in this column are either *Existing Customer* or *Attrited Customer*. To keep the column unchanged, we'll just create a new column called **Is_Account_Closed** with value 1 to specify an attrited customer or 0 to specify an existing customer."
   ]
  },
  {
   "cell_type": "code",
   "execution_count": 3,
   "metadata": {},
   "outputs": [
    {
     "name": "stdout",
     "output_type": "stream",
     "text": [
      "Existing Customer    8500\n",
      "Attrited Customer    1627\n",
      "Name: Attrition_Flag, dtype: int64 \n",
      "\n",
      "0.0    8500\n",
      "1.0    1627\n",
      "Name: Is_Account_Closed, dtype: int64\n"
     ]
    }
   ],
   "source": [
    "df[\"Is_Account_Closed\"] = np.nan\n",
    "df.loc[df[\"Attrition_Flag\"] == \"Existing Customer\", \"Is_Account_Closed\"] = 0\n",
    "df.loc[df[\"Attrition_Flag\"] == \"Attrited Customer\", \"Is_Account_Closed\"] = 1\n",
    "\n",
    "print(df[\"Attrition_Flag\"].value_counts(sort=True), \"\\n\")\n",
    "print(df[\"Is_Account_Closed\"].value_counts(sort=True))"
   ]
  },
  {
   "cell_type": "markdown",
   "metadata": {},
   "source": [
    "##### Gender\n",
    "The values in this column are either *F* or *M*. We'll be creating a new column called **Is_Male** with a value 1 if male and 0 if female."
   ]
  },
  {
   "cell_type": "code",
   "execution_count": 4,
   "metadata": {},
   "outputs": [
    {
     "name": "stdout",
     "output_type": "stream",
     "text": [
      "F    5358\n",
      "M    4769\n",
      "Name: Gender, dtype: int64 \n",
      "\n",
      "0.0    5358\n",
      "1.0    4769\n",
      "Name: Is_Male, dtype: int64\n"
     ]
    }
   ],
   "source": [
    "df[\"Is_Male\"] = np.nan\n",
    "df.loc[df[\"Gender\"] == \"F\", \"Is_Male\"] = 0\n",
    "df.loc[df[\"Gender\"] == \"M\", \"Is_Male\"] = 1\n",
    "\n",
    "print(df[\"Gender\"].value_counts(sort=True), \"\\n\")\n",
    "print(df[\"Is_Male\"].value_counts(sort=True))"
   ]
  },
  {
   "cell_type": "markdown",
   "metadata": {},
   "source": [
    "##### Education_Level\n",
    "The values in this column can vary, but the only value we want to change is from *Unknown* to *NaN*."
   ]
  },
  {
   "cell_type": "code",
   "execution_count": 5,
   "metadata": {},
   "outputs": [
    {
     "name": "stdout",
     "output_type": "stream",
     "text": [
      "Graduate         3128\n",
      "High School      2013\n",
      "Unknown          1519\n",
      "Uneducated       1487\n",
      "College          1013\n",
      "Post-Graduate     516\n",
      "Doctorate         451\n",
      "Name: Education_Level, dtype: int64 \n",
      "\n",
      "Graduate         3128\n",
      "High School      2013\n",
      "NaN              1519\n",
      "Uneducated       1487\n",
      "College          1013\n",
      "Post-Graduate     516\n",
      "Doctorate         451\n",
      "Name: Education_Level, dtype: int64\n"
     ]
    }
   ],
   "source": [
    "print(df[\"Education_Level\"].value_counts(sort=True), \"\\n\")\n",
    "\n",
    "df.loc[df[\"Education_Level\"] == \"Unknown\", \"Education_Level\"] = np.nan\n",
    "\n",
    "print(df[\"Education_Level\"].value_counts(sort=True, dropna=False))"
   ]
  },
  {
   "cell_type": "markdown",
   "metadata": {},
   "source": [
    "##### Marital_Status\n",
    "Similar to **Education_Level**, we want to change *Unknown* to *NaN*."
   ]
  },
  {
   "cell_type": "code",
   "execution_count": 6,
   "metadata": {},
   "outputs": [
    {
     "name": "stdout",
     "output_type": "stream",
     "text": [
      "Married     4687\n",
      "Single      3943\n",
      "Unknown      749\n",
      "Divorced     748\n",
      "Name: Marital_Status, dtype: int64 \n",
      "\n",
      "Married     4687\n",
      "Single      3943\n",
      "NaN          749\n",
      "Divorced     748\n",
      "Name: Marital_Status, dtype: int64\n"
     ]
    }
   ],
   "source": [
    "print(df[\"Marital_Status\"].value_counts(sort=True), \"\\n\")\n",
    "\n",
    "df.loc[df[\"Marital_Status\"] == \"Unknown\", \"Marital_Status\"] = np.nan\n",
    "\n",
    "print(df[\"Marital_Status\"].value_counts(sort=True, dropna=False))"
   ]
  },
  {
   "cell_type": "markdown",
   "metadata": {},
   "source": [
    "##### Income_Category\n",
    "Similar to **Education_Level**, we want to change *Unknown* to *NaN*."
   ]
  },
  {
   "cell_type": "code",
   "execution_count": 7,
   "metadata": {},
   "outputs": [
    {
     "name": "stdout",
     "output_type": "stream",
     "text": [
      "Less than $40K    3561\n",
      "$40K - $60K       1790\n",
      "$80K - $120K      1535\n",
      "$60K - $80K       1402\n",
      "Unknown           1112\n",
      "$120K +            727\n",
      "Name: Income_Category, dtype: int64 \n",
      "\n",
      "Less than $40K    3561\n",
      "$40K - $60K       1790\n",
      "$80K - $120K      1535\n",
      "$60K - $80K       1402\n",
      "NaN               1112\n",
      "$120K +            727\n",
      "Name: Income_Category, dtype: int64\n"
     ]
    }
   ],
   "source": [
    "print(df[\"Income_Category\"].value_counts(sort=True), \"\\n\")\n",
    "\n",
    "df.loc[df[\"Income_Category\"] == \"Unknown\", \"Income_Category\"] = np.nan\n",
    "\n",
    "print(df[\"Income_Category\"].value_counts(sort=True, dropna=False))"
   ]
  },
  {
   "cell_type": "markdown",
   "metadata": {},
   "source": [
    "#### Renaming Columns\n",
    "We're now renaming some columns to make the column names consistent with the form `Pascal_Case`.\n",
    "\n",
    "These are the column names to change:\n",
    "- Dependent_count => Dependent_Count\n",
    "- Months_on_book => Months_On_Book\n",
    "- Months_Inactive_12_mon => Months_Inactive_12_Mon\n",
    "- Contacts_Count_12_mon => Contacts_Count_12_Mon"
   ]
  },
  {
   "cell_type": "code",
   "execution_count": 8,
   "metadata": {},
   "outputs": [],
   "source": [
    "df = df.rename(columns={\"Dependent_count\": \"Dependent_Count\", \"Months_on_book\": \"Months_On_Book\", \"Months_Inactive_12_mon\": \"Months_Inactive_12_Mon\", \"Contacts_Count_12_mon\": \"Contacts_Count_12_Mon\"})"
   ]
  },
  {
   "cell_type": "markdown",
   "metadata": {},
   "source": [
    "Let's see the final columns that we have."
   ]
  },
  {
   "cell_type": "code",
   "execution_count": 9,
   "metadata": {},
   "outputs": [
    {
     "data": {
      "text/plain": [
       "Index(['CLIENTNUM', 'Attrition_Flag', 'Customer_Age', 'Gender',\n",
       "       'Dependent_Count', 'Education_Level', 'Marital_Status',\n",
       "       'Income_Category', 'Card_Category', 'Months_On_Book',\n",
       "       'Total_Relationship_Count', 'Months_Inactive_12_Mon',\n",
       "       'Contacts_Count_12_Mon', 'Credit_Limit', 'Total_Revolving_Bal',\n",
       "       'Avg_Open_To_Buy', 'Total_Amt_Chng_Q4_Q1', 'Total_Trans_Amt',\n",
       "       'Total_Trans_Ct', 'Total_Ct_Chng_Q4_Q1', 'Avg_Utilization_Ratio',\n",
       "       'Is_Account_Closed', 'Is_Male'],\n",
       "      dtype='object')"
      ]
     },
     "execution_count": 9,
     "metadata": {},
     "output_type": "execute_result"
    }
   ],
   "source": [
    "df.columns"
   ]
  },
  {
   "cell_type": "markdown",
   "metadata": {},
   "source": [
    "Now, we can save this dataframe as a clean pickle file."
   ]
  },
  {
   "cell_type": "code",
   "execution_count": 10,
   "metadata": {},
   "outputs": [],
   "source": [
    "pd.to_pickle(df, \"bank-churners-clean.pkl\")"
   ]
  },
  {
   "cell_type": "markdown",
   "metadata": {},
   "source": [
    "#### Single Variable Explorations\n",
    "In this stage, we'll be examining the variables, finding out what they each mean. Since this chapter is only about distributions and histograms, we'll be using those to examine the variables.\n",
    "\n",
    "First, let's setup everything needed to plot the variables into distribution graphs."
   ]
  },
  {
   "cell_type": "code",
   "execution_count": 11,
   "metadata": {},
   "outputs": [],
   "source": [
    "import matplotlib.pyplot as plt\n",
    "import matplotlib\n",
    "from matplotlib import rcParams\n",
    "from cycler import cycler\n",
    "\n",
    "matplotlib.style.use(\"dark_background\")\n",
    "%matplotlib inline\n",
    "rcParams[\"figure.figsize\"] = (6, 6)\n",
    "rcParams[\"axes.prop_cycle\"] = cycler(color=[\"#4299E1\", \"#F56565\"])\n",
    "rcParams[\"axes.facecolor\"] = \"#1A202C\"\n",
    "rcParams[\"axes.edgecolor\"] = \"#A0AEC0\"\n",
    "rcParams[\"axes.grid\"] = True\n",
    "rcParams[\"grid.color\"] = \"#A0AEC0\"\n",
    "rcParams[\"grid.alpha\"] = 0.7\n",
    "rcParams[\"axes.titlecolor\"] = \"#A0AEC0\"\n",
    "rcParams[\"axes.labelcolor\"] = \"#A0AEC0\""
   ]
  },
  {
   "cell_type": "markdown",
   "metadata": {},
   "source": [
    "##### CLIENTNUM\n",
    "This is a unique id associated with a customer holding the account, usually randomized.\n",
    "\n",
    "##### Attrition_Flag (Is_Account_Closed)\n",
    "This determines if the customer's account is still active or has been closed. This column has been transformed and changed to **Is_Account_Closed**. A value of 1 means the account is closed, 0 otherwise."
   ]
  },
  {
   "cell_type": "code",
   "execution_count": 12,
   "metadata": {},
   "outputs": [
    {
     "data": {
      "text/plain": [
       "Text(0, 0.5, 'Probability')"
      ]
     },
     "execution_count": 12,
     "metadata": {},
     "output_type": "execute_result"
    },
    {
     "data": {
      "image/png": "[encoded data removed]",
      "text/plain": [
       "<Figure size 432x432 with 1 Axes>"
      ]
     },
     "metadata": {
      "needs_background": "dark"
     },
     "output_type": "display_data"
    }
   ],
   "source": [
    "df[\"Is_Account_Closed\"].plot.hist(bins=[-0.5, 0.5, 1.5], density=True)\n",
    "plt.xticks([0, 1])\n",
    "plt.title(\"Is Account Closed\")\n",
    "plt.ylabel(\"Probability\")"
   ]
  },
  {
   "cell_type": "markdown",
   "metadata": {},
   "source": [
    "##### Customer_Age - Demographic\n",
    "The customer's age in years."
   ]
  },
  {
   "cell_type": "code",
   "execution_count": 13,
   "metadata": {},
   "outputs": [
    {
     "data": {
      "text/plain": [
       "Text(0, 0.5, 'Frequency')"
      ]
     },
     "execution_count": 13,
     "metadata": {},
     "output_type": "execute_result"
    },
    {
     "data": {
      "image/png": "[encoded data removed]",
      "text/plain": [
       "<Figure size 432x432 with 1 Axes>"
      ]
     },
     "metadata": {
      "needs_background": "dark"
     },
     "output_type": "display_data"
    }
   ],
   "source": [
    "df[\"Customer_Age\"].plot.hist(bins=48)\n",
    "plt.title(\"Customer Age\")\n",
    "plt.xlabel(\"Age\")\n",
    "plt.ylabel(\"Frequency\")"
   ]
  },
  {
   "cell_type": "markdown",
   "metadata": {},
   "source": [
    "##### Gender (Is_Male) - Demographic\n",
    "The gender of the customer. This column has been transformed and changed to **Is_Male**. A value of 1 means the customer is male, 0 if female."
   ]
  },
  {
   "cell_type": "code",
   "execution_count": 14,
   "metadata": {},
   "outputs": [
    {
     "data": {
      "text/plain": [
       "Text(0, 0.5, 'Probability')"
      ]
     },
     "execution_count": 14,
     "metadata": {},
     "output_type": "execute_result"
    },
    {
     "data": {
      "image/png": "[encoded data removed]",
      "text/plain": [
       "<Figure size 432x432 with 1 Axes>"
      ]
     },
     "metadata": {
      "needs_background": "dark"
     },
     "output_type": "display_data"
    }
   ],
   "source": [
    "df[\"Is_Male\"].plot.hist(bins=[-0.5, 0.5, 1.5], density=True)\n",
    "plt.xticks([0, 1])\n",
    "plt.title(\"Is Male\")\n",
    "plt.ylabel(\"Probability\")"
   ]
  },
  {
   "cell_type": "markdown",
   "metadata": {},
   "source": [
    "##### Dependent_Count - Demographic\n",
    "Number of dependents that the customer has."
   ]
  },
  {
   "cell_type": "code",
   "execution_count": 15,
   "metadata": {},
   "outputs": [
    {
     "data": {
      "text/plain": [
       "Text(0, 0.5, 'Frequency')"
      ]
     },
     "execution_count": 15,
     "metadata": {},
     "output_type": "execute_result"
    },
    {
     "data": {
      "image/png": "[encoded data removed]",
      "text/plain": [
       "<Figure size 432x432 with 1 Axes>"
      ]
     },
     "metadata": {
      "needs_background": "dark"
     },
     "output_type": "display_data"
    }
   ],
   "source": [
    "df[\"Dependent_Count\"].plot.hist(bins=6)\n",
    "plt.title(\"Number of Dependents\")\n",
    "plt.xlabel(\"Count\")\n",
    "plt.ylabel(\"Frequency\")"
   ]
  },
  {
   "cell_type": "markdown",
   "metadata": {},
   "source": [
    "##### Education_Level - Demographic\n",
    "The level of education that the customer has."
   ]
  },
  {
   "cell_type": "code",
   "execution_count": 19,
   "metadata": {},
   "outputs": [
    {
     "name": "stdout",
     "output_type": "stream",
     "text": [
      "Graduate         30.89 %\n",
      "High School      19.88 %\n",
      "NaN               15.0 %\n",
      "Uneducated       14.68 %\n",
      "College           10.0 %\n",
      "Post-Graduate      5.1 %\n",
      "Doctorate         4.45 %\n",
      "Name: Education_Level, dtype: object\n"
     ]
    }
   ],
   "source": [
    "def PrintCountValues(col):\n",
    "    print(df[col].value_counts(normalize=True, dropna=False).mul(100).round(2).astype(str) + \" %\")\n",
    "\n",
    "PrintCountValues(\"Education_Level\")"
   ]
  },
  {
   "cell_type": "markdown",
   "metadata": {},
   "source": [
    "##### Marital_Status - Demographic\n",
    "The marital status that the customer has."
   ]
  },
  {
   "cell_type": "code",
   "execution_count": 20,
   "metadata": {},
   "outputs": [
    {
     "name": "stdout",
     "output_type": "stream",
     "text": [
      "Married     46.28 %\n",
      "Single      38.94 %\n",
      "NaN           7.4 %\n",
      "Divorced     7.39 %\n",
      "Name: Marital_Status, dtype: object\n"
     ]
    }
   ],
   "source": [
    "PrintCountValues(\"Marital_Status\")"
   ]
  },
  {
   "cell_type": "markdown",
   "metadata": {},
   "source": [
    "##### Income_Category - Demographic\n",
    "The income group that the customer is in."
   ]
  },
  {
   "cell_type": "code",
   "execution_count": 21,
   "metadata": {},
   "outputs": [
    {
     "name": "stdout",
     "output_type": "stream",
     "text": [
      "Less than $40K    35.16 %\n",
      "$40K - $60K       17.68 %\n",
      "$80K - $120K      15.16 %\n",
      "$60K - $80K       13.84 %\n",
      "NaN               10.98 %\n",
      "$120K +            7.18 %\n",
      "Name: Income_Category, dtype: object\n"
     ]
    }
   ],
   "source": [
    "PrintCountValues(\"Income_Category\")"
   ]
  },
  {
   "cell_type": "markdown",
   "metadata": {},
   "source": [
    "##### Card_Category - Product\n",
    "The type of card that the customer has."
   ]
  },
  {
   "cell_type": "code",
   "execution_count": 22,
   "metadata": {},
   "outputs": [
    {
     "name": "stdout",
     "output_type": "stream",
     "text": [
      "Blue        93.18 %\n",
      "Silver       5.48 %\n",
      "Gold         1.15 %\n",
      "Platinum      0.2 %\n",
      "Name: Card_Category, dtype: object\n"
     ]
    }
   ],
   "source": [
    "PrintCountValues(\"Card_Category\")"
   ]
  },
  {
   "cell_type": "code",
   "execution_count": null,
   "metadata": {},
   "outputs": [],
   "source": []
  }
 ],
 "metadata": {
  "kernelspec": {
   "display_name": "Python 3",
   "language": "python",
   "name": "python3"
  },
  "language_info": {
   "codemirror_mode": {
    "name": "ipython",
    "version": 3
   },
   "file_extension": ".py",
   "mimetype": "text/x-python",
   "name": "python",
   "nbconvert_exporter": "python",
   "pygments_lexer": "ipython3",
   "version": "3.8.5"
  }
 },
 "nbformat": 4,
 "nbformat_minor": 4
}
