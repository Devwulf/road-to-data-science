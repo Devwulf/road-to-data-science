{
 "cells": [
  {
   "cell_type": "markdown",
   "metadata": {},
   "source": [
    "### Cumulative Distribution Functions\n",
    "#### The limits of Probability Mass Functions\n",
    "Probability Mass Functions are great when the number of unique values is small. But its limitations became apparent due to these reasons:\n",
    "- As the number of unique values increases, the probability associated with each value gets smaller and the effect of random noise increases\n",
    "- Harder to tell which features are meaningful\n",
    "- Hard to see overall patterns\n",
    "- Binning may help, but may also smooth out useful information\n",
    "\n",
    "This graph shows the limitations of probability mass functions:"
   ]
  },
  {
   "cell_type": "code",
   "execution_count": 1,
   "metadata": {},
   "outputs": [],
   "source": [
    "import matplotlib.pyplot as plt\n",
    "import matplotlib\n",
    "from matplotlib import rcParams\n",
    "from cycler import cycler\n",
    "\n",
    "matplotlib.style.use(\"dark_background\")\n",
    "%matplotlib inline\n",
    "rcParams[\"figure.figsize\"] = (12, 6)\n",
    "rcParams[\"axes.prop_cycle\"] = cycler(color=[\"#4299E1\", \"#F56565\"])\n",
    "rcParams[\"axes.facecolor\"] = \"#1A202C\"\n",
    "rcParams[\"axes.edgecolor\"] = \"#A0AEC0\"\n",
    "rcParams[\"axes.grid\"] = True\n",
    "rcParams[\"grid.color\"] = \"#A0AEC0\"\n",
    "rcParams[\"grid.alpha\"] = 0.7\n",
    "rcParams[\"axes.titlecolor\"] = \"#A0AEC0\"\n",
    "rcParams[\"axes.labelcolor\"] = \"#A0AEC0\"\n",
    "rcParams[\"xtick.color\"] = \"#A0AEC0\"\n",
    "rcParams[\"ytick.color\"] = \"#A0AEC0\""
   ]
  },
  {
   "cell_type": "code",
   "execution_count": 2,
   "metadata": {},
   "outputs": [
    {
     "data": {
      "text/plain": [
       "Text(0, 0.5, 'Probability')"
      ]
     },
     "execution_count": 2,
     "metadata": {},
     "output_type": "execute_result"
    },
    {
     "data": {
      "image/png": "[encoded data removed]",
      "text/plain": [
       "<Figure size 864x432 with 1 Axes>"
      ]
     },
     "metadata": {
      "needs_background": "dark"
     },
     "output_type": "display_data"
    }
   ],
   "source": [
    "import pandas as pd\n",
    "import numpy as np\n",
    "\n",
    "df = pd.read_pickle(\"nsfg_data.pkl\")\n",
    "df[\"totalwgt_lb\"].plot.hist(bins=200, density=True)\n",
    "plt.title(\"Birth Weight\")\n",
    "plt.xlabel(\"Weight (lbs)\")\n",
    "plt.ylabel(\"Probability\")"
   ]
  },
  {
   "cell_type": "markdown",
   "metadata": {},
   "source": [
    "#### Percentiles\n",
    "Given a set of values that are used to rank against, percentile ranking calculation can be coded as such:"
   ]
  },
  {
   "cell_type": "code",
   "execution_count": 3,
   "metadata": {},
   "outputs": [
    {
     "name": "stdout",
     "output_type": "stream",
     "text": [
      "40.0\n",
      "80.0\n",
      "100.0\n"
     ]
    }
   ],
   "source": [
    "# Say that these are exam scores to rank against\n",
    "values = [55, 66, 77, 88, 99]\n",
    "values.sort()\n",
    "def PercentileRank(valueToRank):\n",
    "    count = 0\n",
    "    for value in values:\n",
    "        if value <= valueToRank:\n",
    "            count += 1\n",
    "    \n",
    "    percentileRank = 100. * count / len(values)\n",
    "    return percentileRank\n",
    "\n",
    "print(PercentileRank(75))\n",
    "print(PercentileRank(88))\n",
    "print(PercentileRank(100))"
   ]
  },
  {
   "cell_type": "markdown",
   "metadata": {},
   "source": [
    "The value used to rank against can also be retrieved from a given percentile ranking, like so:"
   ]
  },
  {
   "cell_type": "code",
   "execution_count": 4,
   "metadata": {},
   "outputs": [
    {
     "name": "stdout",
     "output_type": "stream",
     "text": [
      "66\n",
      "88\n",
      "99\n"
     ]
    }
   ],
   "source": [
    "def Percentile(percentileRank):\n",
    "    # // is a division that returns an integer, / is a division that returns a floating point\n",
    "    index = percentileRank * (len(values) - 1) // 100 \n",
    "    return values[index]\n",
    "\n",
    "print(Percentile(40))\n",
    "print(Percentile(80))\n",
    "print(Percentile(100))"
   ]
  },
  {
   "cell_type": "markdown",
   "metadata": {},
   "source": [
    "#### Cumulative Distribution Functions\n",
    "The cumulative distribution function maps a value *x* to its percentile rank. Essentially, it is similar to how the `PercentileRank` is calculated above, but the result is a probability in the range 0 to 1 instead of 0 to 100. Here is how it looks like in code, given a sample:"
   ]
  },
  {
   "cell_type": "code",
   "execution_count": 5,
   "metadata": {},
   "outputs": [
    {
     "name": "stdout",
     "output_type": "stream",
     "text": [
      "0.4\n",
      "0.8\n",
      "1.0\n"
     ]
    }
   ],
   "source": [
    "def EvaluateCDF(sample, x):\n",
    "    count = 0\n",
    "    for value in sample:\n",
    "        if value <= x:\n",
    "            count += 1\n",
    "            \n",
    "    # This is the only line that changed, no need to multiply by 100\n",
    "    probability = count / len(sample)\n",
    "    return probability\n",
    "\n",
    "print(EvaluateCDF(values, 75))\n",
    "print(EvaluateCDF(values, 88))\n",
    "print(EvaluateCDF(values, 100))"
   ]
  },
  {
   "cell_type": "markdown",
   "metadata": {},
   "source": [
    "And here is how it looks like when graphed, given a random dataset of two dice thrown:"
   ]
  },
  {
   "cell_type": "code",
   "execution_count": 11,
   "metadata": {},
   "outputs": [
    {
     "data": {
      "text/plain": [
       "Text(0, 0.5, 'CDF')"
      ]
     },
     "execution_count": 11,
     "metadata": {},
     "output_type": "execute_result"
    },
    {
     "data": {
      "image/png": "[encoded data removed]",
      "text/plain": [
       "<Figure size 864x432 with 1 Axes>"
      ]
     },
     "metadata": {
      "needs_background": "dark"
     },
     "output_type": "display_data"
    }
   ],
   "source": [
    "from random import random\n",
    "\n",
    "# Simulating 1000 rolls of 2 dice\n",
    "dieRolls1 = [round(random() * 5 + 1) for i in range(0, 1000)]\n",
    "dieRolls2 = [round(random() * 5 + 1) for i in range(0, 1000)]\n",
    "\n",
    "# Adding the values of the rolled dice values\n",
    "dieRollSum = np.array([dieRolls1[i] + dieRolls2[i] for i in range(0, 1000)])\n",
    "series = pd.Series(dieRollSum)\n",
    "\n",
    "series.plot.hist(cumulative=True, density=True, bins=11)\n",
    "plt.title(\"Two Dice Rolls\")\n",
    "plt.xlabel(\"Dice Rolls\")\n",
    "plt.ylabel(\"CDF\")"
   ]
  },
  {
   "cell_type": "markdown",
   "metadata": {},
   "source": [
    "Here is the same variable `totalwgt_lb` graphed above, but now graphed using cumulative distribution function:"
   ]
  },
  {
   "cell_type": "code",
   "execution_count": 10,
   "metadata": {},
   "outputs": [
    {
     "data": {
      "text/plain": [
       "Text(0, 0.5, 'CDF')"
      ]
     },
     "execution_count": 10,
     "metadata": {},
     "output_type": "execute_result"
    },
    {
     "data": {
      "image/png": "[encoded data removed]",
      "text/plain": [
       "<Figure size 864x432 with 1 Axes>"
      ]
     },
     "metadata": {
      "needs_background": "dark"
     },
     "output_type": "display_data"
    }
   ],
   "source": [
    "df[\"totalwgt_lb\"].plot.hist(bins=30, density=True, cumulative=True)\n",
    "plt.title(\"Baby Weight\")\n",
    "plt.xlabel(\"Weight (lb)\")\n",
    "plt.ylabel(\"CDF\")"
   ]
  },
  {
   "cell_type": "markdown",
   "metadata": {},
   "source": [
    "Here is the variable `prglngth` for live births graphed using CDF:"
   ]
  },
  {
   "cell_type": "code",
   "execution_count": 9,
   "metadata": {},
   "outputs": [
    {
     "data": {
      "text/plain": [
       "Text(0, 0.5, 'CDF')"
      ]
     },
     "execution_count": 9,
     "metadata": {},
     "output_type": "execute_result"
    },
    {
     "data": {
      "image/png": "[encoded data removed]",
      "text/plain": [
       "<Figure size 864x432 with 1 Axes>"
      ]
     },
     "metadata": {
      "needs_background": "dark"
     },
     "output_type": "display_data"
    }
   ],
   "source": [
    "live = df[df[\"outcome\"] == 1]\n",
    "\n",
    "live[\"prglngth\"].plot.hist(bins=30, density=True, cumulative=True)\n",
    "plt.title(\"Pregnancy Length\")\n",
    "plt.xlabel(\"Weeks\")\n",
    "plt.ylabel(\"CDF\")"
   ]
  },
  {
   "cell_type": "markdown",
   "metadata": {},
   "source": [
    "According to this graph, about 10% of live pregnancies are shorter than 36 weeks, and about 90% of live pregnancies are shorter than 41 weeks. Common values also appear as steep or vertical sections of the graph, like in 39 weeks, which is the mode of the graph. Few values could be found below 30 weeks, so the graph is flatter there."
   ]
  },
  {
   "cell_type": "markdown",
   "metadata": {},
   "source": [
    "#### Comparing CDFs\n",
    "CDFs are especially useful for comparing distributions. Previously, we have compared the PMF graphs of both the firstborns and others by getting the difference of the two series. We came to the conclusion that firstborns are unlikely to be born at week 39, while they are more likely to be born at weeks 41 and 42.\n",
    "\n",
    "Let's see how their CDFs would compare:"
   ]
  },
  {
   "cell_type": "code",
   "execution_count": 29,
   "metadata": {},
   "outputs": [
    {
     "data": {
      "text/plain": [
       "[<matplotlib.lines.Line2D at 0x1bad96e2970>]"
      ]
     },
     "execution_count": 29,
     "metadata": {},
     "output_type": "execute_result"
    },
    {
     "data": {
      "image/png": "[encoded data removed]",
      "text/plain": [
       "<Figure size 864x432 with 1 Axes>"
      ]
     },
     "metadata": {
      "needs_background": "dark"
     },
     "output_type": "display_data"
    }
   ],
   "source": [
    "firsts = live[live[\"birthord\"] == 1]\n",
    "others = live[live[\"birthord\"] != 1]\n",
    "\n",
    "#plt.hist((firsts[\"prglngth\"], others[\"prglngth\"]), bins=30, density=True, cumulative=True, label=(\"Firstborns\", \"Others\"))\n",
    "hist, bins = np.histogram(firsts[\"prglngth\"], bins=200, density=True)\n",
    "offset = bins[1:] - bins[:-1]\n",
    "plt.plot(bins[:-1] + offset, np.cumsum(hist))\n",
    "hist2, bins2 = np.histogram(others[\"prglngth\"], bins=200, density=True)\n",
    "plt.plot(bins2[:-1] + offset, np.cumsum(hist2))"
   ]
  },
  {
   "cell_type": "code",
   "execution_count": null,
   "metadata": {},
   "outputs": [],
   "source": []
  }
 ],
 "metadata": {
  "kernelspec": {
   "display_name": "Python 3",
   "language": "python",
   "name": "python3"
  },
  "language_info": {
   "codemirror_mode": {
    "name": "ipython",
    "version": 3
   },
   "file_extension": ".py",
   "mimetype": "text/x-python",
   "name": "python",
   "nbconvert_exporter": "python",
   "pygments_lexer": "ipython3",
   "version": "3.8.5"
  }
 },
 "nbformat": 4,
 "nbformat_minor": 4
}
