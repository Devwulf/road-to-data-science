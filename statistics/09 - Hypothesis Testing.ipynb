{
 "cells": [
  {
   "cell_type": "markdown",
   "metadata": {},
   "source": [
    "### Hypothesis Testing\n",
    "#### Classical Hypothesis Testing\n",
    "So far, when exploring datasets and finding several \"apparent effects\", like finding differences between first babies and others, we have taken these effects at face value. Now, it's time to put these effects to the test. Are these effects likely to appear in the larger population?\n",
    "\n",
    "The goal of **classical hypothesis testing** is to answer this question:\n",
    "> Given a sample and an apparent effect, what is the probability of seeing such an effect by chance?\n",
    "\n",
    "These are the steps to answer this question:\n",
    "1. Quantify the size of the apparent effect by choosing a **test statistic**. In the NSFG example, the apparent effect is a difference in pregnancy lengths between first babies and others. The test statistic we can choose for this is the difference in means between the two groups; that is, `mean_first - mean_others`. As shown below, the test statistic came up positive, which means that the data shows that, on average, live firstborns have longer pregnancy lengths than others, and thus are born later than others. But since we know that means are skewed by outliers, we can also show the median difference between the two groups. The median difference ended up at exactly 0."
   ]
  },
  {
   "cell_type": "code",
   "execution_count": 1,
   "metadata": {},
   "outputs": [
    {
     "name": "stdout",
     "output_type": "stream",
     "text": [
      "Test statistic\n",
      " \tDifference of mean pregnancy lengths between firsts and others: 0.07803726677754952\n",
      "\tDifference of median pregnancy lengths between firsts and others: 0.0\n"
     ]
    }
   ],
   "source": [
    "import numpy as np\n",
    "import pandas as pd\n",
    "\n",
    "df = pd.read_pickle(\"nsfg_data.pkl\")\n",
    "live = df[df[\"outcome\"] == 1]\n",
    "firsts = live[live[\"birthord\"] == 1][\"prglngth\"]\n",
    "others = live[live[\"birthord\"] != 1][\"prglngth\"]\n",
    "diffMean = firsts.mean() - others.mean()\n",
    "diffMedian = firsts.median() - others.median()\n",
    "print(\"Test statistic\\n\", \"\\tDifference of mean pregnancy lengths between firsts and others:\", diffMean)\n",
    "print(\"\\tDifference of median pregnancy lengths between firsts and others:\", diffMedian)"
   ]
  },
  {
   "cell_type": "markdown",
   "metadata": {},
   "source": [
    "2. Define a **null hypothesis**, which is a model of the system based on the assumption that the apparent effect is **NOT** real. In the NSFG example, the null hypothesis is that there is no difference between the pregnancy lengths of the first babies and others; that is, the pregnancy lengths for both groups have the same distribution.\n",
    "3. Compute a **p-value**, which is the probability of seeing the apparent effect if the null hypothesis is **true**. For the NSFG example, as done in code:"
   ]
  },
  {
   "cell_type": "code",
   "execution_count": 2,
   "metadata": {},
   "outputs": [
    {
     "name": "stdout",
     "output_type": "stream",
     "text": [
      "P-Value: 0.158 or 15.8 % \n",
      "Difference in pregnancy lengths: 0.07803726677754952\n"
     ]
    }
   ],
   "source": [
    "def MeanPValue(group1, group2, iterations=1000):\n",
    "    # MakeModel\n",
    "    group1Count = len(group1)\n",
    "    group2Count = len(group2)\n",
    "\n",
    "    # Create a pool of pregnancy length values by combining the values of the firsts and others in one array\n",
    "    pool = np.hstack((group1, group2))\n",
    "\n",
    "    # RunModel\n",
    "    testStatistics = []\n",
    "    for i in range(iterations):\n",
    "        # Destructively shuffle the pool\n",
    "        np.random.shuffle(pool)\n",
    "        group1TestData = pool[:group1Count] # should be of size firstsCount\n",
    "        group2TestData = pool[group1Count:] # since this is the leftover, it will be of size othersCount\n",
    "\n",
    "        # TestModel\n",
    "        testStatistic = abs(group1TestData.mean() - group2TestData.mean())\n",
    "        testStatistics.append(testStatistic)\n",
    "\n",
    "    # Find p-value\n",
    "    actualTestStatistic = abs(group1.mean() - group2.mean()) # Based on the actual values of firsts and others\n",
    "    count = sum(1 for x in testStatistics if x >= actualTestStatistic)\n",
    "    pValue = count / iterations\n",
    "    return (pValue, testStatistics, actualTestStatistic)\n",
    "\n",
    "pValue, testStatistics, actualTestStatistic = MeanPValue(firsts, others)\n",
    "print(\"P-Value:\", pValue, \"or\", pValue * 100, \"%\", \"\\nDifference in pregnancy lengths:\", actualTestStatistic)"
   ]
  },
  {
   "cell_type": "markdown",
   "metadata": {},
   "source": [
    "4. Finally, we interpret the result. If the p-value is low, the effect is said to be **statistically significant**, which means that it is unlikely to have occurred by chance. We can then infer that the effect is more likely to appear in the larger population. Based on the p-value above, we get a value of `0.17` or `17%`. This means that we expect to see a difference as big as the observed effect about 17% of the time, therefore this effect is **NOT** statistically significant. If we were to graph the differences of the means of pregnancy lengths in a CDF graph and mark where the actual mean difference is, it would look like this:"
   ]
  },
  {
   "cell_type": "code",
   "execution_count": 3,
   "metadata": {},
   "outputs": [],
   "source": [
    "import matplotlib.pyplot as plt\n",
    "import matplotlib\n",
    "from matplotlib import rcParams\n",
    "from cycler import cycler\n",
    "\n",
    "matplotlib.style.use(\"dark_background\")\n",
    "%matplotlib inline\n",
    "rcParams[\"figure.figsize\"] = (15, 6)\n",
    "rcParams[\"axes.prop_cycle\"] = cycler(color=[\"#4299E1\", \"#F56565\", \"#48BB78\"])\n",
    "rcParams[\"axes.facecolor\"] = \"#1A202C\"\n",
    "rcParams[\"axes.edgecolor\"] = \"#A0AEC0\"\n",
    "rcParams[\"axes.grid\"] = True\n",
    "rcParams[\"grid.color\"] = \"#A0AEC0\"\n",
    "rcParams[\"grid.alpha\"] = 0.7\n",
    "rcParams[\"axes.titlecolor\"] = \"#A0AEC0\"\n",
    "rcParams[\"axes.labelcolor\"] = \"#A0AEC0\"\n",
    "rcParams[\"xtick.color\"] = \"#A0AEC0\"\n",
    "rcParams[\"ytick.color\"] = \"#A0AEC0\""
   ]
  },
  {
   "cell_type": "code",
   "execution_count": 4,
   "metadata": {},
   "outputs": [
    {
     "data": {
      "image/png": "[encoded data removed]",
      "text/plain": [
       "<Figure size 1080x432 with 1 Axes>"
      ]
     },
     "metadata": {
      "needs_background": "dark"
     },
     "output_type": "display_data"
    }
   ],
   "source": [
    "import seaborn as sns\n",
    "\n",
    "sns.ecdfplot(x=testStatistics)\n",
    "plt.plot([actualTestStatistic, actualTestStatistic], [0, 1])\n",
    "plt.draw()"
   ]
  },
  {
   "cell_type": "markdown",
   "metadata": {},
   "source": [
    "Let's try doing the same thing for birth weights:"
   ]
  },
  {
   "cell_type": "code",
   "execution_count": 5,
   "metadata": {},
   "outputs": [
    {
     "name": "stdout",
     "output_type": "stream",
     "text": [
      "P-Value: 0.0 or 0.0 % \n",
      "Difference in weights: 0.12476118453549034\n"
     ]
    }
   ],
   "source": [
    "firstWeights = live[live[\"birthord\"] == 1][\"totalwgt_lb\"]\n",
    "otherWeights = live[live[\"birthord\"] != 1][\"totalwgt_lb\"]\n",
    "\n",
    "pValue, testStatistics, actualTestStatistic = MeanPValue(firstWeights, otherWeights)\n",
    "print(\"P-Value:\", pValue, \"or\", pValue * 100, \"%\", \"\\nDifference in weights:\", actualTestStatistic)"
   ]
  },
  {
   "cell_type": "markdown",
   "metadata": {},
   "source": [
    "Unlike that of pregnancy lengths, the simulation for birth weights never yields an effect as big as the observed difference, `0.12 lbs`. This means the difference in birth weight **IS** statistically significant."
   ]
  },
  {
   "cell_type": "markdown",
   "metadata": {},
   "source": [
    "#### Other Test Statistics\n",
    "Choosing the best test statistic depends on what question or hypothesis you're trying to address. For example, if the hypothesis to test is that pregnancy lengths for first babies are different from that of other babies, then it makes sense to test the absolute difference in means. This kind of test is called **two-sided**, because it counts both sides of the distribution of differences.\n",
    "\n",
    "However, if our hypothesis to test instead is that first babies are born late, then we should be using a **one-sided** test, where only one side of the distribution of differences is counted. Here is how it looks likes:"
   ]
  },
  {
   "cell_type": "code",
   "execution_count": 6,
   "metadata": {},
   "outputs": [
    {
     "name": "stdout",
     "output_type": "stream",
     "text": [
      "P-Value (One-Sided): 0.096 or 9.6 % \n",
      "Difference (one-sided) in pregnancy lengths: 0.07803726677754952\n"
     ]
    }
   ],
   "source": [
    "def MeanPValueOneSided(group1, group2):\n",
    "    group1Count = len(group1)\n",
    "    group2Count = len(group2)\n",
    "\n",
    "    pool = np.hstack((group1, group2))\n",
    "\n",
    "    testStatistics = []\n",
    "    iterations = 1000\n",
    "    for i in range(iterations):\n",
    "        np.random.shuffle(pool)\n",
    "        group1TestData = pool[:group1Count]\n",
    "        group2TestData = pool[group1Count:]\n",
    "\n",
    "        testStatistic = group1TestData.mean() - group2TestData.mean() # This is the only thing we changed from the previous function\n",
    "        testStatistics.append(testStatistic)\n",
    "\n",
    "    actualTestStatistic = group1.mean() - group2.mean()\n",
    "    count = sum(1 for x in testStatistics if x >= actualTestStatistic)\n",
    "    pValue = count / iterations\n",
    "    return (pValue, testStatistics, actualTestStatistic)\n",
    "\n",
    "pValue, testStatistics, actualTestStatistic = MeanPValueOneSided(firsts, others)\n",
    "print(\"P-Value (One-Sided):\", pValue, \"or\", pValue * 100, \"%\", \"\\nDifference (one-sided) in pregnancy lengths:\", actualTestStatistic)"
   ]
  },
  {
   "cell_type": "markdown",
   "metadata": {},
   "source": [
    "In general, the p-value for a one-sided test is about half the p-value for a two-sided test.\n",
    "\n",
    "The one-sided hypothesis, that first babies are born late, is more specific than the two-sided hypothesis, so the p-value is smaller. However, the difference is still not statistically significant.\n",
    "\n",
    "> Note: It is widely agreed upon that a p-value less than `0.05 or 5%` is considered statistically significant."
   ]
  },
  {
   "cell_type": "markdown",
   "metadata": {},
   "source": [
    "We can use the same classic hypothesis testing framework to test for a difference in standard deviation. In earlier chapters, we saw some evidence that first babies are more likely to be either early or late, but less likely to be on time. Therefore, we may hypothesize that its standard deviation is **higher (one-sided)** instead of **different (two-sided)**. Let's test for it:"
   ]
  },
  {
   "cell_type": "code",
   "execution_count": 7,
   "metadata": {},
   "outputs": [
    {
     "name": "stdout",
     "output_type": "stream",
     "text": [
      "P-Value: 0.069 or 6.9 % \n",
      "Standard difference (one-sided) in pregnancy lengths: 0.1760490642294399\n"
     ]
    }
   ],
   "source": [
    "def StdPValueOneSided(group1, group2):\n",
    "    group1Count = len(group1)\n",
    "    group2Count = len(group2)\n",
    "\n",
    "    pool = np.hstack((group1, group2))\n",
    "\n",
    "    testStatistics = []\n",
    "    iterations = 1000\n",
    "    for i in range(iterations):\n",
    "        np.random.shuffle(pool)\n",
    "        group1TestData = pool[:group1Count]\n",
    "        group2TestData = pool[group1Count:]\n",
    "\n",
    "        testStatistic = group1TestData.std() - group2TestData.std()\n",
    "        testStatistics.append(testStatistic)\n",
    "\n",
    "    actualTestStatistic = group1.std() - group2.std()\n",
    "    count = sum(1 for x in testStatistics if x >= actualTestStatistic)\n",
    "    pValue = count / iterations\n",
    "    return (pValue, testStatistics, actualTestStatistic)\n",
    "\n",
    "pValue, testStatistics, actualTestStatistic = StdPValueOneSided(firsts, others)\n",
    "print(\"P-Value:\", pValue, \"or\", pValue * 100, \"%\", \"\\nStandard difference (one-sided) in pregnancy lengths:\", actualTestStatistic)"
   ]
  },
  {
   "cell_type": "markdown",
   "metadata": {},
   "source": [
    "As we can see, the p-value is around 0.08, which means this test statistic is not significant."
   ]
  },
  {
   "cell_type": "markdown",
   "metadata": {},
   "source": [
    "#### Testing a Correlation\n",
    "The classic hypothesis testing framework can also test for correlations between variables. Using the NSFG data set, let's see if there's a correlation between the birth weight and the mother's age.\n",
    "> Note: It is first recommended to look at the two variables' scatter plot to see if there's a possible correlation and not waste time if there isn't."
   ]
  },
  {
   "cell_type": "code",
   "execution_count": 8,
   "metadata": {},
   "outputs": [
    {
     "name": "stdout",
     "output_type": "stream",
     "text": [
      "Correlation (Spearman): 0.09459957306813607\n",
      "Correlation (Pearson): 0.06882635429188806\n"
     ]
    }
   ],
   "source": [
    "noNan = live[live[\"totalwgt_lb\"].isna() == False]\n",
    "birthWgt = noNan[\"totalwgt_lb\"]\n",
    "momAge = noNan[\"agepreg\"]\n",
    "\n",
    "def Covariance(xSample, ySample):\n",
    "    xMean = xSample.mean()\n",
    "    yMean = ySample.mean()\n",
    "    return np.dot(xSample - xMean, ySample - yMean) / xSample.count()\n",
    "\n",
    "def Pearson_Covariance(xSample, ySample):\n",
    "    covariance = Covariance(xSample, ySample)\n",
    "    stds = xSample.std() * ySample.std()\n",
    "    return covariance / stds\n",
    "\n",
    "def Spearman_Coefficient(xSample, ySample):\n",
    "    return Pearson_Covariance(xSample.rank(), ySample.rank())\n",
    "\n",
    "print(\"Correlation (Spearman):\", Spearman_Coefficient(momAge, birthWgt))\n",
    "print(\"Correlation (Pearson):\", Pearson_Covariance(momAge, birthWgt))"
   ]
  },
  {
   "cell_type": "markdown",
   "metadata": {},
   "source": [
    "The correlation between the birth weight and the mother's age is about `0.09` using Spearman and `0.07` using Pearson. Since we don't expect either a positive or negative correlation, we will do a two-sided test using the absolute value of Pearson correlation. The null hypothesis is that there is no correlation between the mother's age and the birth weight. By shuffling the observed value, we can simulate a world where the distributions of age and birth weight are the same, but the variables are unrelated."
   ]
  },
  {
   "cell_type": "code",
   "execution_count": 9,
   "metadata": {},
   "outputs": [
    {
     "name": "stdout",
     "output_type": "stream",
     "text": [
      "P-Value: 0.0 or 0.0 % \n",
      "Correlation between mom age and birth weight: 0.06882635429188806\n"
     ]
    }
   ],
   "source": [
    "def CorrelationPValue(var1, var2):\n",
    "    testStatistics = []\n",
    "    iterations = 1000\n",
    "    for i in range(iterations):\n",
    "        testStatistic = abs(Pearson_Covariance(var1.sample(frac=1), var2))\n",
    "        testStatistics.append(testStatistic)\n",
    "\n",
    "    actualTestStatistic = abs(Pearson_Covariance(var1, var2))\n",
    "    count = sum(1 for x in testStatistics if x >= actualTestStatistic)\n",
    "    pValue = count / iterations\n",
    "    return (pValue, testStatistics, actualTestStatistic)\n",
    "\n",
    "pValue, testStatistics, actualTestStatistic = CorrelationPValue(momAge, birthWgt)\n",
    "print(\"P-Value:\", pValue, \"or\", pValue * 100, \"%\", \"\\nCorrelation between mom age and birth weight:\", actualTestStatistic)"
   ]
  },
  {
   "cell_type": "markdown",
   "metadata": {},
   "source": [
    "According to this, the correlation of `0.07` between the mother's age and birth weight is statistically significant.\n",
    "> Note: **Statistically significant** does not always mean that an effect is important or significant in practice. It only means that this statistic is **unlikely** to have occured **by chance.**"
   ]
  },
  {
   "cell_type": "markdown",
   "metadata": {},
   "source": [
    "#### Testing Proportions\n",
    "Say that someone is using a loaded die so that some numbers are more likely to come up than others. You want to prove that it's a loaded die and you get these frequencies when you rolled it 60 times:\n",
    "```\n",
    "1 - 8\n",
    "2 - 9\n",
    "3 - 19\n",
    "4 - 5\n",
    "5 - 8\n",
    "6 - 11\n",
    "```\n",
    "It seems that 3 comes up more than expected, and 4 comes up less than expected. But are these differences statistically significant?\n",
    "\n",
    "Let's set up our classical hypothesis testing:\n",
    "1. Our **test statistic** is the total absolute difference between the expected and observed frequencies. For our actual test statistic, the expected value for each die number is 10 out of 60 rolls, therefore the deviations are |-2|, |-1|, |9|, |-5|, |-2|, and |1|. Adding up all these values would yield us a total absolute difference (or total deviation) of 20.\n",
    "2. Our **null hypothesis** is that the die is fair. We can simulate this by rolling a fair dice 60 times, for 1000 times.\n",
    "3. We calculate the **p-value** by getting all the total absolute differences of all the simulated rolls we did and counting how many of them is larger than the actual test statistic established above.\n",
    "4. We then **evaluate the p-value**; if the p-value is less than 0.05, then we can say that the effect is statistically significant and is therefore likely to not have come up by chance."
   ]
  },
  {
   "cell_type": "code",
   "execution_count": 10,
   "metadata": {},
   "outputs": [
    {
     "name": "stdout",
     "output_type": "stream",
     "text": [
      "P-Value: 0.116 or 11.600000000000001 % \n",
      "Total Deviation of Loaded Die: 20.0\n"
     ]
    }
   ],
   "source": [
    "def LoadedDie(observedFreqs):\n",
    "    testStatistics = []\n",
    "    iterations = 1000\n",
    "    numRolls = 60\n",
    "    dieValues = [1, 2, 3, 4, 5, 6]\n",
    "    expected = np.ones(6) * numRolls / 6\n",
    "    \n",
    "    for i in range(iterations):\n",
    "        rolls = np.random.choice(dieValues, numRolls, replace=True)\n",
    "        observed = pd.Series(rolls).value_counts().values # Get the frequencies of each die number\n",
    "        testStatistic = sum(abs(observed - expected))\n",
    "        testStatistics.append(testStatistic)\n",
    "\n",
    "    actualTestStatistic = sum(abs(observedFreqs - expected))\n",
    "    count = sum(1 for x in testStatistics if x >= actualTestStatistic)\n",
    "    pValue = count / iterations\n",
    "    return (pValue, testStatistics, actualTestStatistic)\n",
    "\n",
    "observedFreqs = [8, 9, 19, 5, 8, 11]\n",
    "pValue, testStatistics, actualTestStatistic = LoadedDie(observedFreqs)\n",
    "print(\"P-Value:\", pValue, \"or\", pValue * 100, \"%\", \"\\nTotal Deviation of Loaded Die:\", actualTestStatistic)"
   ]
  },
  {
   "cell_type": "markdown",
   "metadata": {},
   "source": [
    "The p-value that we get is 0.13, which means that the apparent effect is not statistically significant and that it is likely that the real observed frequencies has come up by chance."
   ]
  },
  {
   "cell_type": "markdown",
   "metadata": {},
   "source": [
    "#### Chi-squared tests\n",
    "Previously, we have used the total deviation as the test statistic. But for testing proportions, it is more common to use the **chi-squared statistic**. The difference is that instead of taking the absolute values of the difference of the observed and expected (`sum(abs(observed-expected))`), we instead square the difference and divide by the expected values, then sum it all up (`sum((observed - expected)**2 / expected)`). This will give more weight to large deviations, and dividing by expected standardizes the deviations.\n",
    "\n",
    "Let's see what p-value we get using this method:"
   ]
  },
  {
   "cell_type": "code",
   "execution_count": 11,
   "metadata": {},
   "outputs": [
    {
     "name": "stdout",
     "output_type": "stream",
     "text": [
      "P-Value: 0.039 or 3.9 % \n",
      "Standard Deviation of Loaded Die: 11.6\n"
     ]
    }
   ],
   "source": [
    "def LoadedDieChiSqr(observedFreqs):\n",
    "    testStatistics = []\n",
    "    iterations = 1000\n",
    "    numRolls = 60\n",
    "    dieValues = [1, 2, 3, 4, 5, 6]\n",
    "    expected = np.ones(6) * numRolls / 6\n",
    "    \n",
    "    for i in range(iterations):\n",
    "        rolls = np.random.choice(dieValues, numRolls, replace=True)\n",
    "        observed = pd.Series(rolls).value_counts().values\n",
    "        testStatistic = sum((observed - expected)**2 / expected) # This line changed from the previous method\n",
    "        testStatistics.append(testStatistic)\n",
    "\n",
    "    actualTestStatistic = sum((observedFreqs - expected)**2 / expected) # This line also changed\n",
    "    count = sum(1 for x in testStatistics if x >= actualTestStatistic)\n",
    "    pValue = count / iterations\n",
    "    return (pValue, testStatistics, actualTestStatistic)\n",
    "\n",
    "observedFreqs = [8, 9, 19, 5, 8, 11]\n",
    "pValue, testStatistics, actualTestStatistic = LoadedDieChiSqr(observedFreqs)\n",
    "print(\"P-Value:\", pValue, \"or\", pValue * 100, \"%\", \"\\nStandard Deviation of Loaded Die:\", actualTestStatistic)"
   ]
  },
  {
   "cell_type": "markdown",
   "metadata": {},
   "source": [
    "The p-value we get using the chi-squared statistic is about `0.04`, much smaller than using the total deviation. Based on our 0.05 threshold, this effect is statistically significant. However, considering the two tests together, we can say that the results are borderline. We can't rule out the possibility that the die is loaded, but we also can't convict the person as cheating using this die.\n",
    "\n",
    "> Note: The p-value depends on the choice of test statistic and the model of the null hypothesis, and sometimes these choices determine whether an effect is statistically significant or not."
   ]
  },
  {
   "cell_type": "markdown",
   "metadata": {},
   "source": [
    "#### Testing First Babies\n",
    "In an earlier chapter, we saw several apparent differences in the distribution of pregnancy length, between 35 to 43 weeks, depending on whether the baby is the first born by that mother or not. To see whether those differences are statistically significant, we can use a test based on a chi-squared statistic."
   ]
  },
  {
   "cell_type": "code",
   "execution_count": 12,
   "metadata": {},
   "outputs": [
    {
     "name": "stdout",
     "output_type": "stream",
     "text": [
      "P-Value: 0.0 or 0.0 % \n",
      "Sum Chi Squared: 209.07216653183275\n"
     ]
    }
   ],
   "source": [
    "def ChiSquared(observed, expected):\n",
    "    return sum((observed - expected)**2 / expected)\n",
    "\n",
    "def ProbHist(values, bins):\n",
    "    hist, bins = np.histogram(values, bins=bins, density=True)\n",
    "    return hist\n",
    "\n",
    "def DistHist(values, bins):\n",
    "    hist, bins = np.histogram(values, bins=bins, density=False)\n",
    "    return hist\n",
    "\n",
    "def PregLenDiffChiSqr(group1, group2, length):\n",
    "    # Make Model\n",
    "    group1Count = len(group1)\n",
    "    group2Count = len(group2)\n",
    "\n",
    "    pool = np.hstack((group1, group2))\n",
    "    # We use a PMF here so we can just multiply this by the observed count to get the expected values\n",
    "    expectedProbs = ProbHist(pool, length) \n",
    "    \n",
    "    testStatistics = []\n",
    "    iterations = 1000\n",
    "    for i in range(iterations):\n",
    "        # Run Model\n",
    "        np.random.shuffle(pool)\n",
    "        group1TestData = pool[:group1Count]\n",
    "        group2TestData = pool[group1Count:]\n",
    "\n",
    "        # Test Model\n",
    "        testStatistic = ChiSquared(DistHist(group1TestData, length), expectedProbs * len(group1TestData)) + ChiSquared(DistHist(group2TestData, length), expectedProbs * len(group2TestData))\n",
    "        testStatistics.append(testStatistic)\n",
    "\n",
    "    actualTestStatistic = ChiSquared(DistHist(group1, length), expectedProbs * group1Count) + ChiSquared(DistHist(group2, length), expectedProbs * group2Count)\n",
    "    count = sum(1 for x in testStatistics if x >= actualTestStatistic)\n",
    "    pValue = count / iterations\n",
    "    return (pValue, testStatistics, actualTestStatistic)\n",
    "\n",
    "zoomedData = live.loc[(live[\"prglngth\"] >= 35) & (live[\"prglngth\"] <= 43)]\n",
    "firsts = zoomedData[zoomedData[\"birthord\"] == 1][\"prglngth\"]\n",
    "others = zoomedData[zoomedData[\"birthord\"] != 1][\"prglngth\"]\n",
    "\n",
    "pValue, testStatistics, actualTestStatistic = PregLenDiffChiSqr(firsts, others, 43 - 35 + 1)\n",
    "print(\"P-Value:\", pValue, \"or\", pValue * 100, \"%\", \"\\nSum Chi Squared:\", actualTestStatistic)"
   ]
  },
  {
   "cell_type": "markdown",
   "metadata": {},
   "source": [
    "Based on this result, this apparent effect - that there is a difference in distributions of the pregnancy lengths between the first and others - is statistically significant. The null hypothesis - that there is no difference between the distributions - is therefore unlikely to be true."
   ]
  },
  {
   "cell_type": "markdown",
   "metadata": {},
   "source": [
    "#### Errors\n",
    "In classical hypothesis testing, an effect is considered statistically significant if the p-value is below some threshold, which is commonly `0.05` or `5%`. However, consider these questions:\n",
    "- If the effect is actually due to chance, what is the probability that we will wrongly consider it **significant**? This probability is the **false positive rate**.\n",
    "- If the effect is real, what is the chance that the hypothesis test will fail (where we wrongly consider it **insignificant**)? This probability is the **false negative rate**.\n",
    "\n",
    "The **false positive rate** is the same as the threshold we use, which is `0.05` or `5%`. When we get a CDF for the test statistic we choose and find out how often a value chosen from that CDF exceed the 95th percentile, we'll find that it is chosen 5% of the time.\n",
    "\n",
    "The **false negative rate** is harder to compute because it depends on the actual effect size, which we normally don't know about. One option we have is to compute a rate based on a hypothetical effect size. Basically, we will need to run our classical hypothesis testing for one test statistic multiple times, count how many p-values exceed our threshold of `0.05`, and divide that count by the number of runs we did.\n",
    "\n",
    "We will be using the `MeanPValue()` function we created earlier to compare the pregnancy lengths between firstborns and others."
   ]
  },
  {
   "cell_type": "code",
   "execution_count": 28,
   "metadata": {},
   "outputs": [
    {
     "name": "stdout",
     "output_type": "stream",
     "text": [
      "False Negative Rate: 0.72\n",
      "Difference in Pregnancy Length: 0.07803726677754952\n"
     ]
    }
   ],
   "source": [
    "def FalseNegRate(group1, group2, numRuns=100):\n",
    "    count = 0\n",
    "    for i in range(numRuns):\n",
    "        sample1 = np.random.choice(group1, len(group1), replace=True)\n",
    "        sample2 = np.random.choice(group2, len(group2), replace=True)\n",
    "        \n",
    "        pValue, testStatistics, actualTestStatistic = MeanPValue(sample1, sample2, 101)\n",
    "        if (pValue > 0.05):\n",
    "            count += 1\n",
    "            \n",
    "    return count / numRuns\n",
    "\n",
    "firsts = live[live[\"birthord\"] == 1][\"prglngth\"]\n",
    "others = live[live[\"birthord\"] != 1][\"prglngth\"]\n",
    "falseNeg = FalseNegRate(firsts, others)\n",
    "print(\"False Negative Rate:\", falseNeg)\n",
    "\n",
    "pValue, testStatistics, actualTestStatistic = MeanPValue(firsts, others)\n",
    "print(\"Difference in Pregnancy Length:\", actualTestStatistic)"
   ]
  },
  {
   "cell_type": "markdown",
   "metadata": {},
   "source": [
    "In our case, the false negative rate is about `0.7` or `70%`. In other words, if the effect is real and statistically significant, that is, the actual difference in mean pregnancy length is `0.078` weeks, we expect an experiment with this sample size to yield a negative test (if this difference in means is not statistically significant) about **70%** of the time.\n",
    "\n",
    "This result is often presented the other way around: if the effect is real and the actual difference is `0.078` weeks, we should expect a positive test only **30%** of the time. This \"correct positive rate\" is called the **power** of the test, sometimes called **sensitivity**.\n",
    "\n",
    "> Note: As a rule of thumb, a power of **80%** is considered acceptable, so we would say that the above test was \"underpowered\".\n",
    "\n",
    "> Note 2: This test does **NOT** imply that there is no difference between the groups. It instead suggest that if there is a difference, it is too small to detect with this sample size."
   ]
  },
  {
   "cell_type": "markdown",
   "metadata": {},
   "source": [
    "#### Replication\n",
    "The hypothesis testing process demonstrated in this chapter is not good practice because of these reasons:\n",
    "1. Performing multiple tests. One hypothesis test means that, if the false positive rate is 1 in 20, the false positive rate for only that test is 1 in 20. But if you run 20 different hypothesis tests, testing different test statistics, at least one of those tests may give a false positive.\n",
    "2. Using the same dataset for exploration and testing. To compensate for multiple tests, it is best to either adjust the p-value threshold (see Holm-Bonferroni method) or partition the data into an exploration data and testing data, with the rows for both partition chosen randomly."
   ]
  },
  {
   "cell_type": "code",
   "execution_count": null,
   "metadata": {},
   "outputs": [],
   "source": []
  }
 ],
 "metadata": {
  "kernelspec": {
   "display_name": "Python 3",
   "language": "python",
   "name": "python3"
  },
  "language_info": {
   "codemirror_mode": {
    "name": "ipython",
    "version": 3
   },
   "file_extension": ".py",
   "mimetype": "text/x-python",
   "name": "python",
   "nbconvert_exporter": "python",
   "pygments_lexer": "ipython3",
   "version": "3.8.5"
  }
 },
 "nbformat": 4,
 "nbformat_minor": 4
}
