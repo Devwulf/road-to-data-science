{
 "cells": [
  {
   "cell_type": "markdown",
   "metadata": {},
   "source": [
    "### Hypothesis Testing\n",
    "#### Classical Hypothesis Testing\n",
    "So far, when exploring datasets and finding several \"apparent effects\", like finding differences between first babies and others, we have taken these effects at face value. Now, it's time to put these effects to the test. Are these effects likely to appear in the larger population?\n",
    "\n",
    "The goal of **classical hypothesis testing** is to answer this question:\n",
    "> Given a sample and an apparent effect, what is the probability of seeing such an effect by chance?\n",
    "\n",
    "These are the steps to answer this question:\n",
    "- Quantify the size of the apparent effect by choosing a **test statistic**. In the NSFG example, the apparent effect is a difference in pregnancy lengths between first babies and others. The test statistic we can choose for this is the difference in means between the two groups; that is, `mean_first - mean_others`. As shown below, the test statistic came up positive, which means that the data shows that, on average, live firstborns have longer pregnancy lengths than others, and thus are born later than others. But since we know that means are skewed by outliers, we can also show the median difference between the two groups. The median difference ended up at exactly 0."
   ]
  },
  {
   "cell_type": "code",
   "execution_count": 24,
   "metadata": {},
   "outputs": [
    {
     "name": "stdout",
     "output_type": "stream",
     "text": [
      "Test statistic\n",
      " \tDifference of mean pregnancy lengths between firsts and others: 0.07803726677754952\n",
      "\tDifference of median pregnancy lengths between firsts and others: 0.0\n"
     ]
    }
   ],
   "source": [
    "import numpy as np\n",
    "import pandas as pd\n",
    "\n",
    "df = pd.read_pickle(\"nsfg_data.pkl\")\n",
    "live = df[df[\"outcome\"] == 1]\n",
    "firsts = live[live[\"birthord\"] == 1][\"prglngth\"]\n",
    "others = live[live[\"birthord\"] != 1][\"prglngth\"]\n",
    "diffMean = firsts.mean() - others.mean()\n",
    "diffMedian = firsts.median() - others.median()\n",
    "print(\"Test statistic\\n\", \"\\tDifference of mean pregnancy lengths between firsts and others:\", diffMean)\n",
    "print(\"\\tDifference of median pregnancy lengths between firsts and others:\", diffMedian)"
   ]
  },
  {
   "cell_type": "markdown",
   "metadata": {},
   "source": [
    "- Define a **null hypothesis**, which is a model of the system based on the assumption that the apparent effect is **NOT** real. In the NSFG example, the null hypothesis is that there is no difference between the pregnancy lengths of the first babies and others; that is, the pregnancy lengths for both groups have the same distribution.\n",
    "- Compute a **p-value**, which is the probability of seeing the apparent effect if the null hypothesis is **true**. For the NSFG example, as done in code:"
   ]
  },
  {
   "cell_type": "code",
   "execution_count": 58,
   "metadata": {},
   "outputs": [
    {
     "name": "stdout",
     "output_type": "stream",
     "text": [
      "P-Value: 0.17 or 17.0 % \n",
      "Difference in pregnancy lengths: 0.07803726677754952\n"
     ]
    }
   ],
   "source": [
    "def GetPValue(group1, group2):\n",
    "    # MakeModel\n",
    "    group1Count = len(group1)\n",
    "    group2Count = len(group2)\n",
    "\n",
    "    # Create a pool of pregnancy length values by combining the values of the firsts and others in one array\n",
    "    pool = np.hstack((group1, group2))\n",
    "\n",
    "    # RunModel\n",
    "    testStatistics = []\n",
    "    iterations = 1000\n",
    "    for i in range(iterations):\n",
    "        # Destructively shuffle the pool\n",
    "        np.random.shuffle(pool)\n",
    "        group1TestData = pool[:group1Count] # should be of size firstsCount\n",
    "        group2TestData = pool[group1Count:] # since this is the leftover, it will be of size othersCount\n",
    "\n",
    "        # TestModel\n",
    "        testStatistic = abs(group1TestData.mean() - group2TestData.mean())\n",
    "        testStatistics.append(testStatistic)\n",
    "\n",
    "    # Find p-value\n",
    "    actualTestStatistic = abs(group1.mean() - group2.mean()) # Based on the actual values of firsts and others\n",
    "    count = sum(1 for x in testStatistics if x >= actualTestStatistic)\n",
    "    pValue = count / iterations\n",
    "    return (pValue, testStatistics, actualTestStatistic)\n",
    "\n",
    "pValue, testStatistics, actualTestStatistic = GetPValue(firsts, others)\n",
    "print(\"P-Value:\", pValue, \"or\", pValue * 100, \"%\", \"\\nDifference in pregnancy lengths:\", actualTestStatistic)"
   ]
  },
  {
   "cell_type": "markdown",
   "metadata": {},
   "source": [
    "- Finally, we interpret the result. If the p-value is low, the effect is said to be **statistically significant**, which means that it is unlikely to have occurred by chance. We can then infer that the effect is more likely to appear in the larger population. Based on the p-value above, we get a value of `0.17` or `17%`. This means that we expect to see a difference as big as the observed effect about 17% of the time, therefore this effect is **NOT** statistically significant. If we were to graph the differences of the means of pregnancy lengths in a CDF graph and mark where the actual mean difference is, it would look like this:"
   ]
  },
  {
   "cell_type": "code",
   "execution_count": 49,
   "metadata": {},
   "outputs": [],
   "source": [
    "import matplotlib.pyplot as plt\n",
    "import matplotlib\n",
    "from matplotlib import rcParams\n",
    "from cycler import cycler\n",
    "\n",
    "matplotlib.style.use(\"dark_background\")\n",
    "%matplotlib inline\n",
    "rcParams[\"figure.figsize\"] = (15, 6)\n",
    "rcParams[\"axes.prop_cycle\"] = cycler(color=[\"#4299E1\", \"#F56565\", \"#48BB78\"])\n",
    "rcParams[\"axes.facecolor\"] = \"#1A202C\"\n",
    "rcParams[\"axes.edgecolor\"] = \"#A0AEC0\"\n",
    "rcParams[\"axes.grid\"] = True\n",
    "rcParams[\"grid.color\"] = \"#A0AEC0\"\n",
    "rcParams[\"grid.alpha\"] = 0.7\n",
    "rcParams[\"axes.titlecolor\"] = \"#A0AEC0\"\n",
    "rcParams[\"axes.labelcolor\"] = \"#A0AEC0\"\n",
    "rcParams[\"xtick.color\"] = \"#A0AEC0\"\n",
    "rcParams[\"ytick.color\"] = \"#A0AEC0\""
   ]
  },
  {
   "cell_type": "code",
   "execution_count": 59,
   "metadata": {},
   "outputs": [
    {
     "data": {
      "image/png": "[encoded data removed]",
      "text/plain": [
       "<Figure size 1080x432 with 1 Axes>"
      ]
     },
     "metadata": {
      "needs_background": "dark"
     },
     "output_type": "display_data"
    }
   ],
   "source": [
    "import seaborn as sns\n",
    "\n",
    "sns.ecdfplot(x=testStatistics)\n",
    "plt.plot([actualTestStatistic, actualTestStatistic], [0, 1])\n",
    "plt.draw()"
   ]
  },
  {
   "cell_type": "markdown",
   "metadata": {},
   "source": [
    "Let's try doing the same thing for birth weights:"
   ]
  },
  {
   "cell_type": "code",
   "execution_count": 62,
   "metadata": {},
   "outputs": [
    {
     "name": "stdout",
     "output_type": "stream",
     "text": [
      "P-Value: 0.0 or 0.0 % \n",
      "Difference in weights: 0.12476118453549034\n"
     ]
    }
   ],
   "source": [
    "firstWeights = live[live[\"birthord\"] == 1][\"totalwgt_lb\"]\n",
    "otherWeights = live[live[\"birthord\"] != 1][\"totalwgt_lb\"]\n",
    "\n",
    "pValue, testStatistics, actualTestStatistic = GetPValue(firstWeights, otherWeights)\n",
    "print(\"P-Value:\", pValue, \"or\", pValue * 100, \"%\", \"\\nDifference in weights:\", actualTestStatistic)"
   ]
  },
  {
   "cell_type": "markdown",
   "metadata": {},
   "source": [
    "Unlike that of pregnancy lengths, the simulation for birth weights never yields an effect as big as the observed difference, `0.12 lbs`. This means the difference in birth weight **IS** statistically significant."
   ]
  },
  {
   "cell_type": "code",
   "execution_count": null,
   "metadata": {},
   "outputs": [],
   "source": []
  }
 ],
 "metadata": {
  "kernelspec": {
   "display_name": "Python 3",
   "language": "python",
   "name": "python3"
  },
  "language_info": {
   "codemirror_mode": {
    "name": "ipython",
    "version": 3
   },
   "file_extension": ".py",
   "mimetype": "text/x-python",
   "name": "python",
   "nbconvert_exporter": "python",
   "pygments_lexer": "ipython3",
   "version": "3.8.5"
  }
 },
 "nbformat": 4,
 "nbformat_minor": 4
}
