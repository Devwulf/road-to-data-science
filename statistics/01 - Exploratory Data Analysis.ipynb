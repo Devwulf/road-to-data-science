{
 "cells": [
  {
   "cell_type": "markdown",
   "metadata": {},
   "source": [
    "Anecdotal Evidence is usually unreliable due to:\n",
    "- Small number of observations\n",
    "- Selection bias\n",
    "- Confirmation bias\n",
    "- Inaccuracy"
   ]
  },
  {
   "cell_type": "markdown",
   "metadata": {},
   "source": [
    "Statistical Approach uses:\n",
    "- Data collection: from data sets collected with the goal of generating statistically valid inferences\n",
    "- Descriptive statistics: generate statistics that summarize the data concisely and visualize data\n",
    "- Exploratory data analysis: look for patterns, differences, features that address our questions; check for inconsistencies and identify limitations\n",
    "- Estimation: data from sample used to estimate characteristics of the general population/out-of-sample data\n",
    "- Hypothesis testing: evaluate effects due to noise/randomness"
   ]
  }
 ],
 "metadata": {
  "kernelspec": {
   "display_name": "Python 3",
   "language": "python",
   "name": "python3"
  },
  "language_info": {
   "codemirror_mode": {
    "name": "ipython",
    "version": 3
   },
   "file_extension": ".py",
   "mimetype": "text/x-python",
   "name": "python",
   "nbconvert_exporter": "python",
   "pygments_lexer": "ipython3",
   "version": "3.8.5"
  }
 },
 "nbformat": 4,
 "nbformat_minor": 4
}
