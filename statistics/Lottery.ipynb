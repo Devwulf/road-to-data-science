{
 "cells": [
  {
   "cell_type": "markdown",
   "metadata": {},
   "source": [
    "### Lottery"
   ]
  },
  {
   "cell_type": "code",
   "execution_count": 1,
   "metadata": {},
   "outputs": [],
   "source": [
    "import matplotlib.pyplot as plt\n",
    "import matplotlib\n",
    "from matplotlib import rcParams\n",
    "from cycler import cycler\n",
    "\n",
    "matplotlib.style.use(\"dark_background\")\n",
    "%matplotlib inline\n",
    "rcParams[\"figure.figsize\"] = (12, 6)\n",
    "rcParams[\"axes.prop_cycle\"] = cycler(color=[\"#4299E1\", \"#F56565\", \"#48BB78\"])\n",
    "rcParams[\"axes.facecolor\"] = \"#1A202C\"\n",
    "rcParams[\"axes.edgecolor\"] = \"#A0AEC0\"\n",
    "rcParams[\"axes.grid\"] = True\n",
    "rcParams[\"grid.color\"] = \"#A0AEC0\"\n",
    "rcParams[\"grid.alpha\"] = 0.7\n",
    "rcParams[\"axes.titlecolor\"] = \"#A0AEC0\"\n",
    "rcParams[\"axes.labelcolor\"] = \"#A0AEC0\"\n",
    "rcParams[\"xtick.color\"] = \"#A0AEC0\"\n",
    "rcParams[\"ytick.color\"] = \"#A0AEC0\""
   ]
  },
  {
   "cell_type": "code",
   "execution_count": 2,
   "metadata": {},
   "outputs": [],
   "source": [
    "import pandas as pd\n",
    "import numpy as np\n",
    "import seaborn as sns\n",
    "\n",
    "df = pd.read_csv(\"Lottery_Mega_Millions_Winning_Numbers__Beginning_2002.csv\")\n",
    "# We need to convert the date from the form MM/DD/YYYY to the form YYYY-MM-DD\n",
    "def ConvertDates(dates):\n",
    "    newDates = []\n",
    "    for date in dates:\n",
    "        arr = date.split(\"/\")\n",
    "        year = arr[2]\n",
    "        month = arr[0]\n",
    "        day = arr[1]\n",
    "        newDates.append(\"{0}-{1}-{2}\".format(year, month, day))\n",
    "    series = pd.Series(newDates)\n",
    "    return series\n",
    "\n",
    "df[\"New Draw Date\"] = ConvertDates(df[\"Draw Date\"])"
   ]
  },
  {
   "cell_type": "code",
   "execution_count": 3,
   "metadata": {},
   "outputs": [
    {
     "data": {
      "text/html": [
       "<div>\n",
       "<style scoped>\n",
       "    .dataframe tbody tr th:only-of-type {\n",
       "        vertical-align: middle;\n",
       "    }\n",
       "\n",
       "    .dataframe tbody tr th {\n",
       "        vertical-align: top;\n",
       "    }\n",
       "\n",
       "    .dataframe thead th {\n",
       "        text-align: right;\n",
       "    }\n",
       "</style>\n",
       "<table border=\"1\" class=\"dataframe\">\n",
       "  <thead>\n",
       "    <tr style=\"text-align: right;\">\n",
       "      <th></th>\n",
       "      <th>Draw Date</th>\n",
       "      <th>Winning Numbers</th>\n",
       "      <th>Mega Ball</th>\n",
       "      <th>Multiplier</th>\n",
       "      <th>New Draw Date</th>\n",
       "      <th>Num 1</th>\n",
       "      <th>Num 2</th>\n",
       "      <th>Num 3</th>\n",
       "      <th>Num 4</th>\n",
       "      <th>Num 5</th>\n",
       "      <th>All Nums</th>\n",
       "    </tr>\n",
       "  </thead>\n",
       "  <tbody>\n",
       "    <tr>\n",
       "      <th>0</th>\n",
       "      <td>09/25/2020</td>\n",
       "      <td>20 36 37 48 67</td>\n",
       "      <td>16</td>\n",
       "      <td>2.0</td>\n",
       "      <td>2020-09-25</td>\n",
       "      <td>20</td>\n",
       "      <td>36</td>\n",
       "      <td>37</td>\n",
       "      <td>48</td>\n",
       "      <td>67</td>\n",
       "      <td>[20, 36, 37, 48, 67]</td>\n",
       "    </tr>\n",
       "    <tr>\n",
       "      <th>1</th>\n",
       "      <td>09/29/2020</td>\n",
       "      <td>14 39 43 44 67</td>\n",
       "      <td>19</td>\n",
       "      <td>3.0</td>\n",
       "      <td>2020-09-29</td>\n",
       "      <td>14</td>\n",
       "      <td>39</td>\n",
       "      <td>43</td>\n",
       "      <td>44</td>\n",
       "      <td>67</td>\n",
       "      <td>[14, 39, 43, 44, 67]</td>\n",
       "    </tr>\n",
       "    <tr>\n",
       "      <th>2</th>\n",
       "      <td>10/02/2020</td>\n",
       "      <td>09 38 47 49 68</td>\n",
       "      <td>25</td>\n",
       "      <td>2.0</td>\n",
       "      <td>2020-10-02</td>\n",
       "      <td>9</td>\n",
       "      <td>38</td>\n",
       "      <td>47</td>\n",
       "      <td>49</td>\n",
       "      <td>68</td>\n",
       "      <td>[9, 38, 47, 49, 68]</td>\n",
       "    </tr>\n",
       "    <tr>\n",
       "      <th>3</th>\n",
       "      <td>10/06/2020</td>\n",
       "      <td>15 16 18 39 59</td>\n",
       "      <td>17</td>\n",
       "      <td>3.0</td>\n",
       "      <td>2020-10-06</td>\n",
       "      <td>15</td>\n",
       "      <td>16</td>\n",
       "      <td>18</td>\n",
       "      <td>39</td>\n",
       "      <td>59</td>\n",
       "      <td>[15, 16, 18, 39, 59]</td>\n",
       "    </tr>\n",
       "    <tr>\n",
       "      <th>4</th>\n",
       "      <td>10/09/2020</td>\n",
       "      <td>05 11 25 27 64</td>\n",
       "      <td>13</td>\n",
       "      <td>2.0</td>\n",
       "      <td>2020-10-09</td>\n",
       "      <td>5</td>\n",
       "      <td>11</td>\n",
       "      <td>25</td>\n",
       "      <td>27</td>\n",
       "      <td>64</td>\n",
       "      <td>[5, 11, 25, 27, 64]</td>\n",
       "    </tr>\n",
       "  </tbody>\n",
       "</table>\n",
       "</div>"
      ],
      "text/plain": [
       "    Draw Date Winning Numbers  Mega Ball  Multiplier New Draw Date  Num 1  \\\n",
       "0  09/25/2020  20 36 37 48 67         16         2.0    2020-09-25     20   \n",
       "1  09/29/2020  14 39 43 44 67         19         3.0    2020-09-29     14   \n",
       "2  10/02/2020  09 38 47 49 68         25         2.0    2020-10-02      9   \n",
       "3  10/06/2020  15 16 18 39 59         17         3.0    2020-10-06     15   \n",
       "4  10/09/2020  05 11 25 27 64         13         2.0    2020-10-09      5   \n",
       "\n",
       "   Num 2  Num 3  Num 4  Num 5              All Nums  \n",
       "0     36     37     48     67  [20, 36, 37, 48, 67]  \n",
       "1     39     43     44     67  [14, 39, 43, 44, 67]  \n",
       "2     38     47     49     68   [9, 38, 47, 49, 68]  \n",
       "3     16     18     39     59  [15, 16, 18, 39, 59]  \n",
       "4     11     25     27     64   [5, 11, 25, 27, 64]  "
      ]
     },
     "execution_count": 3,
     "metadata": {},
     "output_type": "execute_result"
    }
   ],
   "source": [
    "def SeparateWinNums(values, index):\n",
    "    newNums = []\n",
    "    for value in values:\n",
    "        arr = value.split(\" \")\n",
    "        newNums.append(int(arr[index]))\n",
    "    series = pd.Series(newNums)\n",
    "    return series\n",
    "\n",
    "def WinNumsToArr(values):\n",
    "    newNums = []\n",
    "    for value in values:\n",
    "        arr = value.split(\" \")\n",
    "        newNums.append([int(x) for x in arr])\n",
    "    series = pd.Series(newNums)\n",
    "    return series\n",
    "\n",
    "winningNumbers = df[\"Winning Numbers\"]\n",
    "\n",
    "df[\"Num 1\"] = SeparateWinNums(winningNumbers, 0)\n",
    "df[\"Num 2\"] = SeparateWinNums(winningNumbers, 1)\n",
    "df[\"Num 3\"] = SeparateWinNums(winningNumbers, 2)\n",
    "df[\"Num 4\"] = SeparateWinNums(winningNumbers, 3)\n",
    "df[\"Num 5\"] = SeparateWinNums(winningNumbers, 4)\n",
    "df[\"All Nums\"] = WinNumsToArr(winningNumbers)\n",
    "df.head()"
   ]
  },
  {
   "cell_type": "code",
   "execution_count": 4,
   "metadata": {},
   "outputs": [
    {
     "data": {
      "text/html": [
       "<div>\n",
       "<style scoped>\n",
       "    .dataframe tbody tr th:only-of-type {\n",
       "        vertical-align: middle;\n",
       "    }\n",
       "\n",
       "    .dataframe tbody tr th {\n",
       "        vertical-align: top;\n",
       "    }\n",
       "\n",
       "    .dataframe thead th {\n",
       "        text-align: right;\n",
       "    }\n",
       "</style>\n",
       "<table border=\"1\" class=\"dataframe\">\n",
       "  <thead>\n",
       "    <tr style=\"text-align: right;\">\n",
       "      <th></th>\n",
       "      <th>Draw Date</th>\n",
       "      <th>Winning Numbers</th>\n",
       "      <th>Mega Ball</th>\n",
       "      <th>Multiplier</th>\n",
       "      <th>New Draw Date</th>\n",
       "      <th>Num 1</th>\n",
       "      <th>Num 2</th>\n",
       "      <th>Num 3</th>\n",
       "      <th>Num 4</th>\n",
       "      <th>Num 5</th>\n",
       "      <th>All Nums</th>\n",
       "    </tr>\n",
       "  </thead>\n",
       "  <tbody>\n",
       "    <tr>\n",
       "      <th>1948</th>\n",
       "      <td>01/26/2021</td>\n",
       "      <td>29 49 56 66 67</td>\n",
       "      <td>24</td>\n",
       "      <td>3.0</td>\n",
       "      <td>2021-01-26</td>\n",
       "      <td>29</td>\n",
       "      <td>49</td>\n",
       "      <td>56</td>\n",
       "      <td>66</td>\n",
       "      <td>67</td>\n",
       "      <td>[29, 49, 56, 66, 67]</td>\n",
       "    </tr>\n",
       "    <tr>\n",
       "      <th>1947</th>\n",
       "      <td>01/22/2021</td>\n",
       "      <td>04 26 42 50 60</td>\n",
       "      <td>24</td>\n",
       "      <td>2.0</td>\n",
       "      <td>2021-01-22</td>\n",
       "      <td>4</td>\n",
       "      <td>26</td>\n",
       "      <td>42</td>\n",
       "      <td>50</td>\n",
       "      <td>60</td>\n",
       "      <td>[4, 26, 42, 50, 60]</td>\n",
       "    </tr>\n",
       "    <tr>\n",
       "      <th>1946</th>\n",
       "      <td>01/19/2021</td>\n",
       "      <td>10 19 26 28 50</td>\n",
       "      <td>16</td>\n",
       "      <td>2.0</td>\n",
       "      <td>2021-01-19</td>\n",
       "      <td>10</td>\n",
       "      <td>19</td>\n",
       "      <td>26</td>\n",
       "      <td>28</td>\n",
       "      <td>50</td>\n",
       "      <td>[10, 19, 26, 28, 50]</td>\n",
       "    </tr>\n",
       "    <tr>\n",
       "      <th>1945</th>\n",
       "      <td>01/15/2021</td>\n",
       "      <td>03 11 12 38 43</td>\n",
       "      <td>15</td>\n",
       "      <td>4.0</td>\n",
       "      <td>2021-01-15</td>\n",
       "      <td>3</td>\n",
       "      <td>11</td>\n",
       "      <td>12</td>\n",
       "      <td>38</td>\n",
       "      <td>43</td>\n",
       "      <td>[3, 11, 12, 38, 43]</td>\n",
       "    </tr>\n",
       "    <tr>\n",
       "      <th>1944</th>\n",
       "      <td>01/12/2021</td>\n",
       "      <td>12 14 26 28 33</td>\n",
       "      <td>9</td>\n",
       "      <td>2.0</td>\n",
       "      <td>2021-01-12</td>\n",
       "      <td>12</td>\n",
       "      <td>14</td>\n",
       "      <td>26</td>\n",
       "      <td>28</td>\n",
       "      <td>33</td>\n",
       "      <td>[12, 14, 26, 28, 33]</td>\n",
       "    </tr>\n",
       "  </tbody>\n",
       "</table>\n",
       "</div>"
      ],
      "text/plain": [
       "       Draw Date Winning Numbers  Mega Ball  Multiplier New Draw Date  Num 1  \\\n",
       "1948  01/26/2021  29 49 56 66 67         24         3.0    2021-01-26     29   \n",
       "1947  01/22/2021  04 26 42 50 60         24         2.0    2021-01-22      4   \n",
       "1946  01/19/2021  10 19 26 28 50         16         2.0    2021-01-19     10   \n",
       "1945  01/15/2021  03 11 12 38 43         15         4.0    2021-01-15      3   \n",
       "1944  01/12/2021  12 14 26 28 33          9         2.0    2021-01-12     12   \n",
       "\n",
       "      Num 2  Num 3  Num 4  Num 5              All Nums  \n",
       "1948     49     56     66     67  [29, 49, 56, 66, 67]  \n",
       "1947     26     42     50     60   [4, 26, 42, 50, 60]  \n",
       "1946     19     26     28     50  [10, 19, 26, 28, 50]  \n",
       "1945     11     12     38     43   [3, 11, 12, 38, 43]  \n",
       "1944     14     26     28     33  [12, 14, 26, 28, 33]  "
      ]
     },
     "execution_count": 4,
     "metadata": {},
     "output_type": "execute_result"
    }
   ],
   "source": [
    "df = df[df[\"Mega Ball\"] <= 25]\n",
    "df = df[df[\"Num 4\"] <= 70]\n",
    "df = df[df[\"Num 5\"] <= 70]\n",
    "df = df.sort_values(\"New Draw Date\", ascending=False)\n",
    "df.head()"
   ]
  },
  {
   "cell_type": "code",
   "execution_count": 11,
   "metadata": {},
   "outputs": [
    {
     "name": "stderr",
     "output_type": "stream",
     "text": [
      "C:\\Users\\markm\\anaconda3\\lib\\site-packages\\seaborn\\distributions.py:2551: FutureWarning: `distplot` is a deprecated function and will be removed in a future version. Please adapt your code to use either `displot` (a figure-level function with similar flexibility) or `histplot` (an axes-level function for histograms).\n",
      "  warnings.warn(msg, FutureWarning)\n",
      "C:\\Users\\markm\\anaconda3\\lib\\site-packages\\seaborn\\distributions.py:2551: FutureWarning: `distplot` is a deprecated function and will be removed in a future version. Please adapt your code to use either `displot` (a figure-level function with similar flexibility) or `histplot` (an axes-level function for histograms).\n",
      "  warnings.warn(msg, FutureWarning)\n",
      "C:\\Users\\markm\\anaconda3\\lib\\site-packages\\seaborn\\distributions.py:2551: FutureWarning: `distplot` is a deprecated function and will be removed in a future version. Please adapt your code to use either `displot` (a figure-level function with similar flexibility) or `histplot` (an axes-level function for histograms).\n",
      "  warnings.warn(msg, FutureWarning)\n",
      "C:\\Users\\markm\\anaconda3\\lib\\site-packages\\seaborn\\distributions.py:2551: FutureWarning: `distplot` is a deprecated function and will be removed in a future version. Please adapt your code to use either `displot` (a figure-level function with similar flexibility) or `histplot` (an axes-level function for histograms).\n",
      "  warnings.warn(msg, FutureWarning)\n",
      "C:\\Users\\markm\\anaconda3\\lib\\site-packages\\seaborn\\distributions.py:2551: FutureWarning: `distplot` is a deprecated function and will be removed in a future version. Please adapt your code to use either `displot` (a figure-level function with similar flexibility) or `histplot` (an axes-level function for histograms).\n",
      "  warnings.warn(msg, FutureWarning)\n"
     ]
    },
    {
     "name": "stdout",
     "output_type": "stream",
     "text": [
      "10.497237569060774\n"
     ]
    },
    {
     "data": {
      "image/png": "[encoded data removed]",
      "text/plain": [
       "<Figure size 864x432 with 1 Axes>"
      ]
     },
     "metadata": {
      "needs_background": "dark"
     },
     "output_type": "display_data"
    }
   ],
   "source": [
    "import scipy\n",
    "\n",
    "def Plot(column):\n",
    "    sns.distplot(df[column], bins=(np.max(df[column]) - np.min(df[column])))\n",
    "\n",
    "Plot(\"Num 1\")\n",
    "Plot(\"Num 2\")\n",
    "Plot(\"Num 3\")\n",
    "Plot(\"Num 4\")\n",
    "Plot(\"Num 5\")\n"
   ]
  },
  {
   "cell_type": "code",
   "execution_count": 6,
   "metadata": {},
   "outputs": [
    {
     "name": "stderr",
     "output_type": "stream",
     "text": [
      "C:\\Users\\markm\\anaconda3\\lib\\site-packages\\seaborn\\distributions.py:2551: FutureWarning: `distplot` is a deprecated function and will be removed in a future version. Please adapt your code to use either `displot` (a figure-level function with similar flexibility) or `histplot` (an axes-level function for histograms).\n",
      "  warnings.warn(msg, FutureWarning)\n"
     ]
    },
    {
     "data": {
      "image/png": "[encoded data removed]",
      "text/plain": [
       "<Figure size 864x432 with 1 Axes>"
      ]
     },
     "metadata": {
      "needs_background": "dark"
     },
     "output_type": "display_data"
    }
   ],
   "source": [
    "Plot(\"Num 5\")"
   ]
  },
  {
   "cell_type": "code",
   "execution_count": 13,
   "metadata": {},
   "outputs": [
    {
     "name": "stdout",
     "output_type": "stream",
     "text": [
      "Num 1:\n",
      " \tMean: 10.497237569060774 \n",
      "\tMode: 0    2\n",
      "dtype: int64\n",
      "Num 2:\n",
      " \tMean: 21.126282557221785 \n",
      "\tMode: 0    15\n",
      "dtype: int64\n",
      "Num 3:\n",
      " \tMean: 31.575374901341753 \n",
      "\tMode: 0    31\n",
      "dtype: int64\n",
      "Num 4:\n",
      " \tMean: 41.95659037095501 \n",
      "\tMode: 0    46\n",
      "dtype: int64\n",
      "Num 5:\n",
      " \tMean: 52.551696921862664 \n",
      "\tMode: 0    50\n",
      "1    52\n",
      "dtype: int64\n"
     ]
    }
   ],
   "source": [
    "print(\"Num 1:\\n\", \"\\tMean:\", df[\"Num 1\"].mean(), \"\\n\\tMode:\", df[\"Num 1\"].mode())\n",
    "print(\"Num 2:\\n\", \"\\tMean:\", df[\"Num 2\"].mean(), \"\\n\\tMode:\", df[\"Num 2\"].mode())\n",
    "print(\"Num 3:\\n\", \"\\tMean:\", df[\"Num 3\"].mean(), \"\\n\\tMode:\", df[\"Num 3\"].mode())\n",
    "print(\"Num 4:\\n\", \"\\tMean:\", df[\"Num 4\"].mean(), \"\\n\\tMode:\", df[\"Num 4\"].mode())\n",
    "print(\"Num 5:\\n\", \"\\tMean:\", df[\"Num 5\"].mean(), \"\\n\\tMode:\", df[\"Num 5\"].mode())"
   ]
  },
  {
   "cell_type": "markdown",
   "metadata": {},
   "source": [
    "Let's try generating random values based on the KDE of a given series:"
   ]
  },
  {
   "cell_type": "code",
   "execution_count": 8,
   "metadata": {},
   "outputs": [],
   "source": [
    "def Gaussian(x, b=1):\n",
    "    return np.exp(-x**2 / (2 * b**2)) / (b * np.sqrt(2 * np.pi))\n",
    "\n",
    "def GenerateRandFromKDE(column):\n",
    "    data = df[column]\n",
    "    lenData = data.count()\n",
    "    hist, bins = np.histogram(data, bins=100, range=(np.min(data), np.max(data)), density=True)\n",
    "    dx = (bins[1] - bins[0])\n",
    "    center = (bins[1:] + bins[:-1]) / 2\n",
    "    \n",
    "    h = 1.06 * np.std(data) * lenData**(-1 / 5.)\n",
    "        \n",
    "    generated = np.zeros(1000)\n",
    "    i = 0\n",
    "    while i < 1000:\n",
    "        rand1 = np.random.rand(1)\n",
    "        randNum = rand1 * (np.max(data) - np.min(data)) + np.min(data)\n",
    "        if np.random.rand(1) <= np.sum((Gaussian(randNum - data, h)) / lenData):\n",
    "            generated[i] = randNum\n",
    "            i += 1\n",
    "    return generated\n",
    "    \n",
    "#randData = GenerateRandFromKDE(\"Num 5\")"
   ]
  },
  {
   "cell_type": "code",
   "execution_count": 9,
   "metadata": {},
   "outputs": [
    {
     "data": {
      "text/plain": [
       "'\\nbins = int(np.max(randData) - np.min(randData))\\nsns.distplot(randData, bins=bins)\\n'"
      ]
     },
     "execution_count": 9,
     "metadata": {},
     "output_type": "execute_result"
    }
   ],
   "source": [
    "\"\"\"\n",
    "bins = int(np.max(randData) - np.min(randData))\n",
    "sns.distplot(randData, bins=bins)\n",
    "\"\"\""
   ]
  },
  {
   "cell_type": "code",
   "execution_count": 10,
   "metadata": {},
   "outputs": [
    {
     "name": "stdout",
     "output_type": "stream",
     "text": [
      "[[11 10 47 53 60 17]\n",
      " [10 19 20 55 51 17]\n",
      " [ 9 28 39 47 51  3]\n",
      " [ 5 38 44 46 20 15]\n",
      " [16 32 28 53 45  9]\n",
      " [21 28 16 32 57 10]\n",
      " [11  5 47 59 33  6]\n",
      " [24 14 37 36 51 11]\n",
      " [ 2 15 37 32 58 17]\n",
      " [ 7 16 34 56 47  6]]\n"
     ]
    }
   ],
   "source": [
    "def GenerateRandValueFromKDE(column):\n",
    "    data = df[column]\n",
    "    lenData = data.count()\n",
    "    hist, bins = np.histogram(data, bins=100, range=(np.min(data), np.max(data)), density=True)\n",
    "    dx = (bins[1] - bins[0])\n",
    "    center = (bins[1:] + bins[:-1]) / 2\n",
    "    \n",
    "    h = 1.06 * np.std(data) * lenData**(-1 / 5.)\n",
    "        \n",
    "    while True:\n",
    "        rand1 = np.random.rand(1)\n",
    "        randNum = rand1 * (np.max(data) - np.min(data)) + np.min(data)\n",
    "        if np.random.rand(1) <= np.sum((Gaussian(randNum - data, h)) / lenData):\n",
    "            return round(randNum[0])\n",
    "\n",
    "amountToGenerate = 10\n",
    "while True:\n",
    "    isValid = True\n",
    "    nums = []\n",
    "    for i in range(amountToGenerate):\n",
    "        nums.append([GenerateRandValueFromKDE(\"Num 1\"), GenerateRandValueFromKDE(\"Num 2\"), GenerateRandValueFromKDE(\"Num 3\"), GenerateRandValueFromKDE(\"Num 4\"), GenerateRandValueFromKDE(\"Num 5\"), GenerateRandValueFromKDE(\"Mega Ball\")])\n",
    "    nums = np.array(nums)\n",
    "    for x in nums:\n",
    "        if len(np.unique(x)) != len(x):\n",
    "            isValid = False\n",
    "    if isValid == True:\n",
    "        break\n",
    "\n",
    "print(nums)"
   ]
  },
  {
   "cell_type": "code",
   "execution_count": null,
   "metadata": {},
   "outputs": [],
   "source": []
  }
 ],
 "metadata": {
  "kernelspec": {
   "display_name": "Python 3",
   "language": "python",
   "name": "python3"
  },
  "language_info": {
   "codemirror_mode": {
    "name": "ipython",
    "version": 3
   },
   "file_extension": ".py",
   "mimetype": "text/x-python",
   "name": "python",
   "nbconvert_exporter": "python",
   "pygments_lexer": "ipython3",
   "version": "3.8.5"
  }
 },
 "nbformat": 4,
 "nbformat_minor": 4
}
