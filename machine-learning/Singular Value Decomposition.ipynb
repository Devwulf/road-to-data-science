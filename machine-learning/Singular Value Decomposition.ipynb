{
 "cells": [
  {
   "cell_type": "markdown",
   "metadata": {},
   "source": [
    "### Singular Value Decomposition\n",
    "Used for dimension reduction."
   ]
  },
  {
   "cell_type": "code",
   "execution_count": 23,
   "metadata": {},
   "outputs": [
    {
     "name": "stdout",
     "output_type": "stream",
     "text": [
      "(10, 3)\n",
      "(3,)\n",
      "(3, 3)\n"
     ]
    }
   ],
   "source": [
    "import numpy as np\n",
    "import pandas as pd\n",
    "\n",
    "def GetOutput(m, v):\n",
    "    return 0.5 * m * v**2\n",
    "\n",
    "data = []\n",
    "for i in range(10):\n",
    "    m = np.random.uniform(1, 20)\n",
    "    v = np.random.uniform(1, 10)\n",
    "    ek = GetOutput(m, v)\n",
    "    data.append([m, v, ek])\n",
    "    \n",
    "arr = np.array(data)\n",
    "\n",
    "# M (cols) becomes the parameters (mass, velocity, e_k)\n",
    "# N (rows) becomes the range used above (in this case, 10)\n",
    "u, s, v = np.linalg.svd(arr, full_matrices=False)\n",
    "print(u.shape)\n",
    "print(s.shape)\n",
    "print(v.shape)"
   ]
  },
  {
   "cell_type": "code",
   "execution_count": null,
   "metadata": {},
   "outputs": [],
   "source": []
  }
 ],
 "metadata": {
  "kernelspec": {
   "display_name": "Python 3",
   "language": "python",
   "name": "python3"
  },
  "language_info": {
   "codemirror_mode": {
    "name": "ipython",
    "version": 3
   },
   "file_extension": ".py",
   "mimetype": "text/x-python",
   "name": "python",
   "nbconvert_exporter": "python",
   "pygments_lexer": "ipython3",
   "version": "3.8.5"
  }
 },
 "nbformat": 4,
 "nbformat_minor": 4
}
