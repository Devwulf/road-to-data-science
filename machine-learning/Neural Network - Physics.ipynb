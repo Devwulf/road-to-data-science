{
 "cells": [
  {
   "cell_type": "markdown",
   "metadata": {},
   "source": [
    "### Neural Network - Physics\n",
    "Our goal in this notebook is to learn how to use Tensorflow Keras and neural networks by using it to model a basic physics equation. The physics equation to be used is that of kinetic energy: `1/2 mv^2`\n",
    "\n",
    "Why do this?\n",
    "- The physics equation is well known already, so we don't have to worry about error functions for now and can focus solely on neural networks and their performance.\n",
    "- The physics equation is simple with few moving parts/variables, therefore we'll be using a simple neural network too.\n",
    "- There is a given equation, which can be used to generate our data. This simplifies our data gathering process and we won't have to worry about errors due to noise or measurement in our data.\n",
    "- Since we only have a simple model we're trying to create, we can also experiment on the number of layers used, the number of nodes for each of those layers, the activation functions to use for those layers, and the type of network structure to use. We can then compare and see which combinations work better than others for this particular problem.\n",
    "\n",
    "Now that we get that out of the way, let's get to creating neural networks!"
   ]
  },
  {
   "cell_type": "code",
   "execution_count": 166,
   "metadata": {},
   "outputs": [],
   "source": [
    "import numpy as np\n",
    "\n",
    "# Here's our simple physics equation!\n",
    "def GetOutput(m, v):\n",
    "    return 0.5 * m * v**2\n",
    "\n",
    "trainSize = 7000\n",
    "testSize = 3000\n",
    "dataSize = trainSize + testSize\n",
    "inputs = []\n",
    "outputs = []\n",
    "for i in range(dataSize):\n",
    "    m = np.random.uniform(1, 50)\n",
    "    v = np.random.uniform(1, 25)\n",
    "    ek = GetOutput(m, v)\n",
    "    inputs.append([m, v])\n",
    "    outputs.append([ek])\n",
    "    \n",
    "inputs = np.asarray(inputs)\n",
    "outputs = np.asarray(outputs)"
   ]
  },
  {
   "cell_type": "code",
   "execution_count": 167,
   "metadata": {},
   "outputs": [
    {
     "name": "stdout",
     "output_type": "stream",
     "text": [
      "Train: 0.000729546882212162 , Test: 0.0007153786718845367\n"
     ]
    }
   ],
   "source": [
    "import tensorflow as tf\n",
    "from tensorflow import keras\n",
    "from keras.models import Sequential\n",
    "from keras.layers import Dense\n",
    "from keras.optimizers import SGD\n",
    "from sklearn import preprocessing\n",
    "from sklearn.preprocessing import StandardScaler\n",
    "\n",
    "inputScaler = StandardScaler()\n",
    "inputScaler.fit(inputs)\n",
    "inputs = scaler.transform(inputs)\n",
    "\n",
    "outputScaler = StandardScaler()\n",
    "outputScaler.fit(outputs)\n",
    "outputs = outputScaler.transform(outputs)[:, 0]\n",
    "\n",
    "trainInputs = inputs[:trainSize]\n",
    "trainOutputs = outputs[:trainSize]\n",
    "testInputs = inputs[trainSize:]\n",
    "testOutputs = outputs[trainSize:]\n",
    "\n",
    "# Defining the model, 2 hidden layers with relu activation and 1 output layer\n",
    "model = Sequential()\n",
    "model.add(Dense(8, input_dim=2, kernel_initializer='he_uniform', activation=\"relu\"))\n",
    "model.add(Dense(4, activation=\"relu\"))\n",
    "model.add(Dense(1, activation=\"linear\"))\n",
    "\n",
    "opt = SGD(lr=0.01, momentum=0.9)\n",
    "model.compile(loss=\"mse\", optimizer=opt)\n",
    "\n",
    "history = model.fit(trainInputs, trainOutputs, validation_data=(testInputs, testOutputs), epochs=100, verbose=0)\n",
    "trainMSE = model.evaluate(trainInputs, trainOutputs, verbose=0)\n",
    "testMSE = model.evaluate(testInputs, testOutputs, verbose=0)\n",
    "\n",
    "print(\"Train:\", trainMSE, \", Test:\", testMSE)"
   ]
  },
  {
   "cell_type": "code",
   "execution_count": 103,
   "metadata": {},
   "outputs": [],
   "source": [
    "import matplotlib.pyplot as plt\n",
    "import matplotlib\n",
    "from matplotlib import rcParams\n",
    "from cycler import cycler\n",
    "\n",
    "matplotlib.style.use(\"dark_background\")\n",
    "%matplotlib inline\n",
    "rcParams[\"figure.figsize\"] = (15, 6)\n",
    "rcParams[\"axes.prop_cycle\"] = cycler(color=[\"#4299E1\", \"#F56565\", \"#48BB78\"])\n",
    "rcParams[\"axes.facecolor\"] = \"#1A202C\"\n",
    "rcParams[\"axes.edgecolor\"] = \"#A0AEC0\"\n",
    "rcParams[\"axes.grid\"] = True\n",
    "rcParams[\"grid.color\"] = \"#A0AEC0\"\n",
    "rcParams[\"grid.alpha\"] = 0.7\n",
    "rcParams[\"axes.titlecolor\"] = \"#A0AEC0\"\n",
    "rcParams[\"axes.labelcolor\"] = \"#A0AEC0\"\n",
    "rcParams[\"xtick.color\"] = \"#A0AEC0\"\n",
    "rcParams[\"ytick.color\"] = \"#A0AEC0\""
   ]
  },
  {
   "cell_type": "code",
   "execution_count": 168,
   "metadata": {},
   "outputs": [
    {
     "data": {
      "image/png": "[encoded data removed]",
      "text/plain": [
       "<Figure size 1080x432 with 1 Axes>"
      ]
     },
     "metadata": {
      "needs_background": "dark"
     },
     "output_type": "display_data"
    }
   ],
   "source": [
    "plt.plot(history.history[\"loss\"], label=\"train\")\n",
    "plt.plot(history.history[\"val_loss\"], label=\"test\")\n",
    "plt.legend()\n",
    "plt.show()"
   ]
  },
  {
   "cell_type": "code",
   "execution_count": 214,
   "metadata": {},
   "outputs": [
    {
     "name": "stdout",
     "output_type": "stream",
     "text": [
      "Prediction:  2481.5806 \n",
      "Actual: 2560.0 \n",
      "Relative Error: 0.030632591247558592\n"
     ]
    }
   ],
   "source": [
    "m = 20\n",
    "v = 16\n",
    "\n",
    "i = np.array([[m, v]])\n",
    "\n",
    "prediction = outputScaler.inverse_transform(model.predict(inputScaler.transform(i)))[0, 0]\n",
    "actual = GetOutput(m, v)\n",
    "print(\"Prediction: \", prediction, \"\\nActual:\", actual, \"\\nRelative Error:\", abs(actual - prediction) / actual)"
   ]
  },
  {
   "cell_type": "code",
   "execution_count": null,
   "metadata": {},
   "outputs": [],
   "source": []
  }
 ],
 "metadata": {
  "kernelspec": {
   "display_name": "Python 3",
   "language": "python",
   "name": "python3"
  },
  "language_info": {
   "codemirror_mode": {
    "name": "ipython",
    "version": 3
   },
   "file_extension": ".py",
   "mimetype": "text/x-python",
   "name": "python",
   "nbconvert_exporter": "python",
   "pygments_lexer": "ipython3",
   "version": "3.8.5"
  }
 },
 "nbformat": 4,
 "nbformat_minor": 4
}
