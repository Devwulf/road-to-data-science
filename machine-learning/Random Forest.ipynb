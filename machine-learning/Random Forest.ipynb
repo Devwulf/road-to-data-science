{
 "cells": [
  {
   "cell_type": "markdown",
   "metadata": {},
   "source": [
    "### Random Forest\n",
    "Before we get started with random forests, we first have to learn how to create decition trees.\n",
    "#### Decision Trees\n",
    "The properties of decision trees are:\n",
    "- Classification model\n",
    "- Binary tree\n",
    "- Made of questions and answers (leaf nodes)\n",
    "- For supervised learning\n",
    "\n",
    "For the steps on how to create decision trees, Josh Starmer has a video that presents this visually really well: https://youtu.be/7VeUPuFGJHk\n",
    "\n",
    "For our test data, let's use his example: 3 input variables (chest pain, good blood circulation, blocked arteries) and 1 label (has heart disease)."
   ]
  },
  {
   "cell_type": "code",
   "execution_count": 18,
   "metadata": {},
   "outputs": [],
   "source": [
    "import numpy as np\n",
    "\n",
    "def GetData(count=100):\n",
    "    data = []\n",
    "    for i in range(count):\n",
    "        v1 = np.random.uniform()\n",
    "        v2 = np.random.uniform()\n",
    "        v3 = np.random.uniform()\n",
    "        out = v1 + v2 + v3\n",
    "        data.append([v1 > 0.5, v2 > 0.5, v3 > 0.5, out > 1.5])\n",
    "    return np.array(data)\n",
    "\n",
    "data = GetData() # Let's pretend this is a black box\n",
    "v1 = data[:, 0]\n",
    "v2 = data[:, 1]\n",
    "v3 = data[:, 2]\n",
    "out = data[:, 3]"
   ]
  },
  {
   "cell_type": "code",
   "execution_count": 6,
   "metadata": {},
   "outputs": [],
   "source": [
    "import matplotlib.pyplot as plt\n",
    "import matplotlib\n",
    "from matplotlib import rcParams\n",
    "from cycler import cycler\n",
    "\n",
    "matplotlib.style.use(\"dark_background\")\n",
    "%matplotlib inline\n",
    "rcParams[\"figure.figsize\"] = (15, 6)\n",
    "rcParams[\"axes.prop_cycle\"] = cycler(color=[\"#4299E1\", \"#F56565\", \"#48BB78\"])\n",
    "rcParams[\"axes.facecolor\"] = \"#1A202C\"\n",
    "rcParams[\"axes.edgecolor\"] = \"#A0AEC0\"\n",
    "rcParams[\"axes.grid\"] = True\n",
    "rcParams[\"grid.color\"] = \"#A0AEC0\"\n",
    "rcParams[\"grid.alpha\"] = 0.7\n",
    "rcParams[\"axes.titlecolor\"] = \"#A0AEC0\"\n",
    "rcParams[\"axes.labelcolor\"] = \"#A0AEC0\"\n",
    "rcParams[\"xtick.color\"] = \"#A0AEC0\"\n",
    "rcParams[\"ytick.color\"] = \"#A0AEC0\""
   ]
  },
  {
   "cell_type": "code",
   "execution_count": 20,
   "metadata": {},
   "outputs": [],
   "source": [
    "# Decision tree will be a binary tree represented as a 1D array\n",
    "# For now, we only want a binary tree of height 2, so 2^h - 1 = 3\n",
    "def BuildDecisionTree(inputs, outputs):\n",
    "    height = 2\n",
    "    nodeCount = pow(2, height) - 1\n",
    "    tree = np.zeros((nodeCount + 1, 5))\n",
    "    for i in range(1, nodeCount + 1):\n",
    "        "
   ]
  },
  {
   "cell_type": "code",
   "execution_count": null,
   "metadata": {},
   "outputs": [],
   "source": []
  }
 ],
 "metadata": {
  "kernelspec": {
   "display_name": "Python 3",
   "language": "python",
   "name": "python3"
  },
  "language_info": {
   "codemirror_mode": {
    "name": "ipython",
    "version": 3
   },
   "file_extension": ".py",
   "mimetype": "text/x-python",
   "name": "python",
   "nbconvert_exporter": "python",
   "pygments_lexer": "ipython3",
   "version": "3.8.5"
  }
 },
 "nbformat": 4,
 "nbformat_minor": 4
}
